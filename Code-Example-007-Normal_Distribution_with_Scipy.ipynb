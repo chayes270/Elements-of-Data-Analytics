{
  "nbformat": 4,
  "nbformat_minor": 0,
  "metadata": {
    "colab": {
      "name": "Normal-Distribution-with-Scipy.ipynb",
      "provenance": []
    },
    "kernelspec": {
      "name": "python3",
      "display_name": "Python 3"
    },
    "language_info": {
      "name": "python"
    }
  },
  "cells": [
    {
      "cell_type": "code",
      "metadata": {
        "id": "9GyIbvjaREZl"
      },
      "source": [
        "from scipy import stats"
      ],
      "execution_count": 3,
      "outputs": []
    },
    {
      "cell_type": "code",
      "metadata": {
        "id": "ntjxSwcfpL0m"
      },
      "source": [
        ""
      ],
      "execution_count": null,
      "outputs": []
    },
    {
      "cell_type": "code",
      "metadata": {
        "colab": {
          "base_uri": "https://localhost:8080/"
        },
        "id": "a1vWKadQRHQ5",
        "outputId": "e217d92b-178d-46ad-cdef-f14bc4740b1e"
      },
      "source": [
        "# Calculate the probability for x=2800, mean=3500, sd=500\n",
        "\n",
        "# loc : array_like, optional\n",
        "#      location parameter (default=0)\n",
        "# scale : array_like, optional\n",
        "#        scale parameter (default=1)\n",
        "scipy.stats.norm.cdf(2800, loc=3500, scale=500)"
      ],
      "execution_count": 6,
      "outputs": [
        {
          "output_type": "execute_result",
          "data": {
            "text/plain": [
              "0.08075665923377107"
            ]
          },
          "metadata": {},
          "execution_count": 6
        }
      ]
    },
    {
      "cell_type": "code",
      "metadata": {
        "colab": {
          "base_uri": "https://localhost:8080/"
        },
        "id": "L_L19bIsRLOS",
        "outputId": "f51f20e1-9e3e-4ab8-f74a-b3050df92280"
      },
      "source": [
        "help(scipy.stats.norm.cdf)"
      ],
      "execution_count": 5,
      "outputs": [
        {
          "output_type": "stream",
          "name": "stdout",
          "text": [
            "Help on method cdf in module scipy.stats._distn_infrastructure:\n",
            "\n",
            "cdf(x, *args, **kwds) method of scipy.stats._continuous_distns.norm_gen instance\n",
            "    Cumulative distribution function of the given RV.\n",
            "    \n",
            "    Parameters\n",
            "    ----------\n",
            "    x : array_like\n",
            "        quantiles\n",
            "    arg1, arg2, arg3,... : array_like\n",
            "        The shape parameter(s) for the distribution (see docstring of the\n",
            "        instance object for more information)\n",
            "    loc : array_like, optional\n",
            "        location parameter (default=0)\n",
            "    scale : array_like, optional\n",
            "        scale parameter (default=1)\n",
            "    \n",
            "    Returns\n",
            "    -------\n",
            "    cdf : ndarray\n",
            "        Cumulative distribution function evaluated at `x`\n",
            "\n"
          ]
        }
      ]
    },
    {
      "cell_type": "code",
      "metadata": {
        "colab": {
          "base_uri": "https://localhost:8080/"
        },
        "id": "n4dLURsoRh8n",
        "outputId": "89f1c29b-369f-4fe2-c783-b022976560ba"
      },
      "source": [
        "scipy.stats.norm.cdf(1.53)"
      ],
      "execution_count": 7,
      "outputs": [
        {
          "output_type": "execute_result",
          "data": {
            "text/plain": [
              "0.9369916355360216"
            ]
          },
          "metadata": {},
          "execution_count": 7
        }
      ]
    },
    {
      "cell_type": "code",
      "metadata": {
        "colab": {
          "base_uri": "https://localhost:8080/"
        },
        "id": "mszgY9PiTxVP",
        "outputId": "9e1283d3-f349-4a24-fc28-bfa2729d1d67"
      },
      "source": [
        "scipy.stats.norm.cdf(3750, loc=3500, scale=500) - scipy.stats.norm.cdf(3250, loc=3500, scale=500)"
      ],
      "execution_count": 8,
      "outputs": [
        {
          "output_type": "execute_result",
          "data": {
            "text/plain": [
              "0.38292492254802624"
            ]
          },
          "metadata": {},
          "execution_count": 8
        }
      ]
    },
    {
      "cell_type": "code",
      "metadata": {
        "colab": {
          "base_uri": "https://localhost:8080/"
        },
        "id": "7ni-AuJfVC4l",
        "outputId": "7154c04d-d1fc-4678-cc92-81480c173057"
      },
      "source": [
        "scipy.stats.norm.ppf(0.08075665923377107, loc=3500, scale=500)"
      ],
      "execution_count": 9,
      "outputs": [
        {
          "output_type": "execute_result",
          "data": {
            "text/plain": [
              "2800.0"
            ]
          },
          "metadata": {},
          "execution_count": 9
        }
      ]
    },
    {
      "cell_type": "code",
      "metadata": {
        "colab": {
          "base_uri": "https://localhost:8080/"
        },
        "id": "GnnAGFxuVDV_",
        "outputId": "ecc71043-8c16-4321-aced-17a1b8a122bd"
      },
      "source": [
        "scipy.stats.norm.pdf(0)"
      ],
      "execution_count": 11,
      "outputs": [
        {
          "output_type": "execute_result",
          "data": {
            "text/plain": [
              "0.3989422804014327"
            ]
          },
          "metadata": {},
          "execution_count": 11
        }
      ]
    },
    {
      "cell_type": "code",
      "metadata": {
        "colab": {
          "base_uri": "https://localhost:8080/"
        },
        "id": "261nyNHAVvyk",
        "outputId": "21db7263-833e-41fc-df1b-3cfa5e31b19b"
      },
      "source": [
        "scipy.stats.norm.pdf(1)"
      ],
      "execution_count": 12,
      "outputs": [
        {
          "output_type": "execute_result",
          "data": {
            "text/plain": [
              "0.24197072451914337"
            ]
          },
          "metadata": {},
          "execution_count": 12
        }
      ]
    },
    {
      "cell_type": "code",
      "metadata": {
        "colab": {
          "base_uri": "https://localhost:8080/"
        },
        "id": "kwQxc_t7VyiF",
        "outputId": "11e4c40d-d044-40a8-c9d2-270b9bb47985"
      },
      "source": [
        "# > 100 * (1 - 2 * pnorm(81, mean= 80, sd= 6/6 , lower.tail = F))\n",
        "# [1] 68.26895\n",
        "\n",
        "100 * (1- 2 * scipy.stats.norm.sf(81, loc= 80, scale=6/6 ))"
      ],
      "execution_count": 13,
      "outputs": [
        {
          "output_type": "execute_result",
          "data": {
            "text/plain": [
              "68.26894921370858"
            ]
          },
          "metadata": {},
          "execution_count": 13
        }
      ]
    },
    {
      "cell_type": "code",
      "metadata": {
        "id": "q0VycEooXyAf"
      },
      "source": [
        ""
      ],
      "execution_count": null,
      "outputs": []
    }
  ]
}