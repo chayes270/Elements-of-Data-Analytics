{
 "cells": [
  {
   "cell_type": "markdown",
   "metadata": {},
   "source": [
    "# DBSCAN with Scikit-learn"
   ]
  },
  {
   "cell_type": "markdown",
   "metadata": {},
   "source": [
    "## Set up and generate data"
   ]
  },
  {
   "cell_type": "code",
   "execution_count": 8,
   "metadata": {},
   "outputs": [],
   "source": [
    "import matplotlib.pyplot as plt\n",
    "from sklearn.datasets import make_moons\n",
    "from sklearn.cluster import DBSCAN\n",
    "\n",
    "import numpy as np\n",
    "import pandas as pd\n",
    "\n",
    "from matplotlib import pyplot\n",
    "import matplotlib.cm as cm\n",
    "import matplotlib.pyplot as plt\n"
   ]
  },
  {
   "cell_type": "code",
   "execution_count": 9,
   "metadata": {
    "scrolled": true
   },
   "outputs": [
    {
     "name": "stdout",
     "output_type": "stream",
     "text": [
      "[[ 0.28171457  0.91044406]\n",
      " [ 0.8389241  -0.53005338]\n",
      " [ 0.40915474  0.80944352]\n",
      " [-0.98415213  0.13142155]\n",
      " [ 1.15919021  0.4910425 ]]\n"
     ]
    }
   ],
   "source": [
    "X, label = make_moons(n_samples=200, noise=0.1, random_state=19)\n",
    "print(X[:5,])"
   ]
  },
  {
   "cell_type": "markdown",
   "metadata": {},
   "source": [
    "## Train the model"
   ]
  },
  {
   "cell_type": "code",
   "execution_count": 10,
   "metadata": {},
   "outputs": [
    {
     "name": "stdout",
     "output_type": "stream",
     "text": [
      "DBSCAN(eps=0.25, min_samples=12)\n"
     ]
    }
   ],
   "source": [
    "# model = DBSCAN?\n",
    "model = DBSCAN(eps=0.25, min_samples=12).fit(X)\n",
    "print(model)"
   ]
  },
  {
   "cell_type": "markdown",
   "metadata": {},
   "source": [
    "## Access the cluster labels and core points"
   ]
  },
  {
   "cell_type": "code",
   "execution_count": 11,
   "metadata": {},
   "outputs": [
    {
     "data": {
      "text/plain": [
       "array([ 0,  1,  0,  0,  0,  0,  1,  0,  1,  1,  0,  0,  0,  1,  0,  1,  0,\n",
       "        1,  1,  1,  1,  0,  0,  1,  1,  0,  0,  1,  1,  1,  0,  0,  0,  0,\n",
       "        0,  1,  0,  1,  0,  1,  1,  0,  0,  1,  0,  1,  0,  1,  0,  1,  1,\n",
       "        1,  1,  1,  1,  1,  1,  1,  0,  0,  1,  1,  0,  1,  0,  0,  0,  0,\n",
       "        0,  0,  1,  0,  0,  1, -1,  1,  0,  1,  1,  1,  0,  1,  0,  0,  1,\n",
       "        1,  0,  0,  1,  0,  0,  0,  0,  0,  0,  1,  0,  1,  1,  0,  1,  1,\n",
       "        0,  0,  0,  1,  1,  1,  1,  0,  0,  0,  1,  1,  1,  1,  1,  0,  0,\n",
       "        0,  1,  0,  1,  1,  1,  0,  0,  0,  0,  0,  1,  1,  1,  1,  1,  1,\n",
       "        1,  1,  1,  1,  1,  0,  0,  1,  1,  0,  0,  1,  1,  0,  0,  1,  1,\n",
       "        1,  1,  1,  1,  0,  1,  1,  1,  0,  0,  0,  1,  0,  1,  1,  0,  0,\n",
       "        0,  0,  1,  0,  1,  0,  0,  0,  0,  0,  0,  1,  1,  0,  0,  0,  0,\n",
       "        1,  1,  0,  1,  0,  1,  0,  0,  0,  1,  0,  1,  0])"
      ]
     },
     "execution_count": 11,
     "metadata": {},
     "output_type": "execute_result"
    }
   ],
   "source": [
    "model.labels_"
   ]
  },
  {
   "cell_type": "code",
   "execution_count": 12,
   "metadata": {},
   "outputs": [
    {
     "data": {
      "text/plain": [
       "array([  0,   1,   2,   7,   9,  10,  12,  13,  14,  18,  20,  21,  22,\n",
       "        23,  24,  26,  28,  29,  31,  32,  33,  34,  35,  37,  38,  39,\n",
       "        40,  41,  42,  44,  45,  46,  47,  49,  50,  51,  55,  56,  57,\n",
       "        58,  59,  60,  62,  63,  64,  65,  66,  67,  68,  69,  70,  71,\n",
       "        73,  75,  76,  77,  78,  79,  81,  83,  84,  86,  87,  88,  89,\n",
       "        91,  92,  93,  94,  96,  98, 101, 102, 104, 105, 106, 107, 108,\n",
       "       109, 110, 112, 113, 114, 115, 117, 118, 119, 121, 122, 123, 124,\n",
       "       125, 126, 127, 128, 129, 130, 131, 134, 136, 137, 138, 139, 140,\n",
       "       142, 143, 144, 145, 147, 148, 149, 150, 154, 155, 157, 158, 159,\n",
       "       160, 162, 163, 164, 165, 166, 170, 172, 173, 175, 177, 180, 182,\n",
       "       183, 184, 187, 188, 189, 190, 191, 195, 197])"
      ]
     },
     "execution_count": 12,
     "metadata": {},
     "output_type": "execute_result"
    }
   ],
   "source": [
    "model.core_sample_indices_"
   ]
  },
  {
   "cell_type": "markdown",
   "metadata": {},
   "source": [
    "## Plot the clusters in feature space"
   ]
  },
  {
   "cell_type": "code",
   "execution_count": 18,
   "metadata": {},
   "outputs": [
    {
     "data": {
      "image/png": "[encoded data removed]",
      "text/plain": [
       "<Figure size 432x288 with 1 Axes>"
      ]
     },
     "metadata": {
      "needs_background": "light"
     },
     "output_type": "display_data"
    }
   ],
   "source": [
    "df = pd.DataFrame(dict(feature_1=X[:,0], feature_2=X[:,1], label=label))\n",
    "\n",
    "\n",
    "cluster_name = set(label)\n",
    "colors = dict(zip(cluster_name, cm.rainbow(np.linspace(0, 1, len(cluster_name)))))\n",
    "fig, ax = pyplot.subplots()\n",
    "\n",
    "grouped = df.groupby('label')\n",
    "\n",
    "for key, group in grouped:\n",
    "    group.plot(ax=ax, kind='scatter', x='feature_1', y='feature_2', color=colors[key].reshape(1,-1))\n",
    "\n",
    "pyplot.show()"
   ]
  },
  {
   "cell_type": "markdown",
   "metadata": {},
   "source": [
    "-----"
   ]
  },
  {
   "cell_type": "code",
   "execution_count": null,
   "metadata": {},
   "outputs": [],
   "source": []
  }
 ],
 "metadata": {
  "kernelspec": {
   "display_name": "Python 3 (ipykernel)",
   "language": "python",
   "name": "python3"
  },
  "language_info": {
   "codemirror_mode": {
    "name": "ipython",
    "version": 3
   },
   "file_extension": ".py",
   "mimetype": "text/x-python",
   "name": "python",
   "nbconvert_exporter": "python",
   "pygments_lexer": "ipython3",
   "version": "3.9.7"
  }
 },
 "nbformat": 4,
 "nbformat_minor": 1
}
