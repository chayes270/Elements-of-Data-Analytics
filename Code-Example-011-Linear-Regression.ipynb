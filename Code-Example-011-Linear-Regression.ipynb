{
 "cells": [
  {
   "cell_type": "code",
   "execution_count": 3,
   "metadata": {},
   "outputs": [],
   "source": [
    "import numpy as np\n",
    "import matplotlib.pyplot as plt\n",
    "import pandas as pd"
   ]
  },
  {
   "cell_type": "code",
   "execution_count": 4,
   "metadata": {},
   "outputs": [
    {
     "name": "stdout",
     "output_type": "stream",
     "text": [
      "<class 'pandas.core.frame.DataFrame'>\n",
      "RangeIndex: 31 entries, 0 to 30\n",
      "Data columns (total 3 columns):\n",
      " #   Column  Non-Null Count  Dtype  \n",
      "---  ------  --------------  -----  \n",
      " 0   name    31 non-null     object \n",
      " 1   hours   31 non-null     float64\n",
      " 2   score   31 non-null     int64  \n",
      "dtypes: float64(1), int64(1), object(1)\n",
      "memory usage: 872.0+ bytes\n"
     ]
    }
   ],
   "source": [
    "students = pd.read_csv(\"./datasets/students.csv\")\n",
    "students.info()"
   ]
  },
  {
   "cell_type": "code",
   "execution_count": 22,
   "metadata": {},
   "outputs": [],
   "source": [
    "hours = students[\"hours\"]\n",
    "exam_score = students[\"score\"]"
   ]
  },
  {
   "cell_type": "code",
   "execution_count": 23,
   "metadata": {},
   "outputs": [
    {
     "data": {
      "image/png": "[encoded data removed]",
      "text/plain": [
       "<Figure size 432x288 with 1 Axes>"
      ]
     },
     "metadata": {
      "needs_background": "light"
     },
     "output_type": "display_data"
    }
   ],
   "source": [
    "fig = plt.figure()\n",
    "plt.scatter(hours, exam_score, c=\"red\", alpha=0.9, marker='*',label=\"Score\")\n",
    "plt.xlabel(\"Hours of Study\")\n",
    "plt.ylabel(\"Exam Score\")\n",
    "plt.legend(loc='upper left')\n",
    "plt.show()"
   ]
  },
  {
   "cell_type": "code",
   "execution_count": 24,
   "metadata": {},
   "outputs": [
    {
     "data": {
      "text/html": [
       "<div>\n",
       "<style scoped>\n",
       "    .dataframe tbody tr th:only-of-type {\n",
       "        vertical-align: middle;\n",
       "    }\n",
       "\n",
       "    .dataframe tbody tr th {\n",
       "        vertical-align: top;\n",
       "    }\n",
       "\n",
       "    .dataframe thead th {\n",
       "        text-align: right;\n",
       "    }\n",
       "</style>\n",
       "<table border=\"1\" class=\"dataframe\">\n",
       "  <thead>\n",
       "    <tr style=\"text-align: right;\">\n",
       "      <th></th>\n",
       "      <th>hours</th>\n",
       "      <th>score</th>\n",
       "    </tr>\n",
       "  </thead>\n",
       "  <tbody>\n",
       "    <tr>\n",
       "      <th>hours</th>\n",
       "      <td>1.00000</td>\n",
       "      <td>0.88351</td>\n",
       "    </tr>\n",
       "    <tr>\n",
       "      <th>score</th>\n",
       "      <td>0.88351</td>\n",
       "      <td>1.00000</td>\n",
       "    </tr>\n",
       "  </tbody>\n",
       "</table>\n",
       "</div>"
      ],
      "text/plain": [
       "         hours    score\n",
       "hours  1.00000  0.88351\n",
       "score  0.88351  1.00000"
      ]
     },
     "execution_count": 24,
     "metadata": {},
     "output_type": "execute_result"
    }
   ],
   "source": [
    "# Pearson's Correlation Coefficient \n",
    "students.corr()"
   ]
  },
  {
   "cell_type": "code",
   "execution_count": 25,
   "metadata": {},
   "outputs": [
    {
     "name": "stdout",
     "output_type": "stream",
     "text": [
      "[[8.  ]\n",
      " [2.  ]\n",
      " [9.  ]\n",
      " [9.  ]\n",
      " [7.  ]\n",
      " [6.5 ]\n",
      " [4.  ]\n",
      " [1.  ]\n",
      " [7.  ]\n",
      " [0.  ]\n",
      " [1.  ]\n",
      " [1.5 ]\n",
      " [4.5 ]\n",
      " [4.  ]\n",
      " [3.5 ]\n",
      " [3.  ]\n",
      " [3.  ]\n",
      " [3.  ]\n",
      " [4.  ]\n",
      " [6.  ]\n",
      " [5.  ]\n",
      " [0.5 ]\n",
      " [5.  ]\n",
      " [2.25]\n",
      " [2.  ]\n",
      " [3.5 ]\n",
      " [3.5 ]\n",
      " [9.  ]\n",
      " [1.  ]\n",
      " [4.75]\n",
      " [4.  ]]\n"
     ]
    }
   ],
   "source": [
    "# Scikit-learn for Linear Regression. \n",
    "# https://scikit-learn.org/stable/modules/generated/sklearn.linear_model.LinearRegression.html\n",
    "\n",
    "import numpy as np\n",
    "from sklearn.linear_model import LinearRegression\n",
    "\n",
    "# Prepare the data in higher dimentions, List of Lists, Array of Arrays\n",
    "my_X = np.vstack((hours, )).T\n",
    "print(my_X)"
   ]
  },
  {
   "cell_type": "code",
   "execution_count": 26,
   "metadata": {},
   "outputs": [
    {
     "name": "stdout",
     "output_type": "stream",
     "text": [
      "[5.01211837]\n",
      "51.51467443328784\n"
     ]
    }
   ],
   "source": [
    "\n",
    "reg = LinearRegression().fit(my_X, exam_score)\n",
    "\n",
    "print(reg.coef_)\n",
    "print(reg.intercept_)"
   ]
  },
  {
   "cell_type": "code",
   "execution_count": 31,
   "metadata": {},
   "outputs": [
    {
     "name": "stdout",
     "output_type": "stream",
     "text": [
      "[5.01211837] 51.51467443328784\n"
     ]
    }
   ],
   "source": [
    "print( reg.coef_, reg.intercept_)\n"
   ]
  },
  {
   "cell_type": "code",
   "execution_count": 32,
   "metadata": {},
   "outputs": [
    {
     "data": {
      "text/plain": [
       "array([91.61162142, 61.53891118, 96.62373979, 96.62373979, 86.59950304,\n",
       "       84.09344386, 71.56314793, 56.52679281, 86.59950304, 51.51467443,\n",
       "       56.52679281, 59.03285199, 74.06920711, 71.56314793, 69.05708874,\n",
       "       66.55102955, 66.55102955, 66.55102955, 71.56314793, 81.58738467,\n",
       "       76.5752663 , 54.02073362, 76.5752663 , 62.79194077, 61.53891118,\n",
       "       69.05708874, 69.05708874, 96.62373979, 56.52679281, 75.32223671,\n",
       "       71.56314793])"
      ]
     },
     "execution_count": 32,
     "metadata": {},
     "output_type": "execute_result"
    }
   ],
   "source": [
    "# Our Predictions\n",
    "reg.predict(my_X)"
   ]
  },
  {
   "cell_type": "code",
   "execution_count": 29,
   "metadata": {},
   "outputs": [
    {
     "data": {
      "text/plain": [
       "0.7805900600660101"
      ]
     },
     "execution_count": 29,
     "metadata": {},
     "output_type": "execute_result"
    }
   ],
   "source": [
    "reg.score(my_X, exam_score)\n",
    "\n",
    "# Return the coefficient of determination R^2 of the prediction.\n",
    "# help(reg.score)"
   ]
  },
  {
   "cell_type": "code",
   "execution_count": 34,
   "metadata": {
    "scrolled": true
   },
   "outputs": [
    {
     "data": {
      "image/png": "[encoded data removed]",
      "text/plain": [
       "<Figure size 432x288 with 1 Axes>"
      ]
     },
     "metadata": {
      "needs_background": "light"
     },
     "output_type": "display_data"
    }
   ],
   "source": [
    "fig = plt.figure()\n",
    "plt.scatter(hours, exam_score, c=\"red\", alpha=0.9, marker='*',label=\"Exam Score\")\n",
    "plt.scatter(hours, reg.predict(my_X), c=\"blue\", alpha=0.9, marker='*',label=\"Prediciton of Score\")\n",
    "\n",
    "plt.xlabel(\"Hours of Study\")\n",
    "plt.ylabel(\"Exam Score\")\n",
    "plt.legend(loc='upper left')\n",
    "plt.show()"
   ]
  },
  {
   "cell_type": "code",
   "execution_count": 36,
   "metadata": {},
   "outputs": [
    {
     "data": {
      "image/png": "[encoded data removed]",
      "text/plain": [
       "<Figure size 432x288 with 1 Axes>"
      ]
     },
     "metadata": {
      "needs_background": "light"
     },
     "output_type": "display_data"
    }
   ],
   "source": [
    "fig = plt.figure()\n",
    "plt.scatter(hours, exam_score, c=\"red\", alpha=0.9, marker='*',label=\"Exam Score\")\n",
    "plt.plot(hours, reg.predict(my_X), c=\"blue\", alpha=0.9, marker='*',label=\"Prediciton of Score\")\n",
    "\n",
    "plt.xlabel(\"Hours of Study\")\n",
    "plt.ylabel(\"Exam Score\")\n",
    "plt.legend(loc='upper left')\n",
    "plt.show()"
   ]
  },
  {
   "cell_type": "code",
   "execution_count": null,
   "metadata": {},
   "outputs": [],
   "source": []
  }
 ],
 "metadata": {
  "kernelspec": {
   "display_name": "Python 3",
   "language": "python",
   "name": "python3"
  },
  "language_info": {
   "codemirror_mode": {
    "name": "ipython",
    "version": 3
   },
   "file_extension": ".py",
   "mimetype": "text/x-python",
   "name": "python",
   "nbconvert_exporter": "python",
   "pygments_lexer": "ipython3",
   "version": "3.8.3"
  }
 },
 "nbformat": 4,
 "nbformat_minor": 4
}
