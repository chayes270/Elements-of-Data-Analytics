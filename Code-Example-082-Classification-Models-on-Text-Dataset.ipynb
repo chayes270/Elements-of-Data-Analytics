{
 "cells": [
  {
   "cell_type": "code",
   "execution_count": 149,
   "id": "c255ac26",
   "metadata": {},
   "outputs": [],
   "source": [
    "import sys\n",
    "# import re\n",
    "import bz2\n",
    "\n",
    "# regex = re.compile(\"[^a-zA-Z]\")\n",
    "\n",
    "import numpy as np\n",
    "import pandas as pd\n",
    "\n",
    "\n",
    "import matplotlib.pyplot as plt\n",
    "%matplotlib inline\n",
    "from sklearn.decomposition import PCA\n",
    "from sklearn.preprocessing import StandardScaler\n",
    "\n",
    "from sklearn.feature_extraction.text import TfidfVectorizer"
   ]
  },
  {
   "cell_type": "markdown",
   "id": "c267c31d",
   "metadata": {},
   "source": [
    "# Dataset of Australian legal case and Wikipedia Pages\n",
    "\n",
    "You should download and look at the Court-Wiki-Dataset.txt\n",
    "\n",
    "file before you begin. You’ll see that the contents are sort of a pseudo-XML, where each text document\n",
    "begins with a $<doc \\ id = ... >$ tag, and ends with $</doc>$.\n",
    "\n",
    "Note that all of the Australia legal cases begin with something like $<\\text{doc id = ‘‘AU1222’’ ...}>$\n",
    "that is, the doc id for an Australian legal case always starts with AU. You will be trying to figure out if the\n",
    "document is an Australian legal case by looking only at the contents of the document."
   ]
  },
  {
   "cell_type": "code",
   "execution_count": 150,
   "id": "c567b14d",
   "metadata": {
    "scrolled": true
   },
   "outputs": [
    {
     "name": "stdout",
     "output_type": "stream",
     "text": [
      "Line number:  100\n",
      "Line number:  200\n",
      "Line number:  300\n",
      "Line number:  400\n",
      "Line number:  500\n",
      "Line number:  600\n",
      "Line number:  700\n",
      "Line number:  800\n",
      "Line number:  800\n"
     ]
    },
    {
     "data": {
      "text/html": [
       "<div>\n",
       "<style scoped>\n",
       "    .dataframe tbody tr th:only-of-type {\n",
       "        vertical-align: middle;\n",
       "    }\n",
       "\n",
       "    .dataframe tbody tr th {\n",
       "        vertical-align: top;\n",
       "    }\n",
       "\n",
       "    .dataframe thead th {\n",
       "        text-align: right;\n",
       "    }\n",
       "</style>\n",
       "<table border=\"1\" class=\"dataframe\">\n",
       "  <thead>\n",
       "    <tr style=\"text-align: right;\">\n",
       "      <th></th>\n",
       "      <th>text</th>\n",
       "      <th>label</th>\n",
       "    </tr>\n",
       "  </thead>\n",
       "  <tbody>\n",
       "    <tr>\n",
       "      <th>0</th>\n",
       "      <td>purported appeal from orders made by federal m...</td>\n",
       "      <td>AU11</td>\n",
       "    </tr>\n",
       "    <tr>\n",
       "      <th>1</th>\n",
       "      <td>bankruptcy noticefailure by creditor to attach...</td>\n",
       "      <td>AU28</td>\n",
       "    </tr>\n",
       "    <tr>\n",
       "      <th>2</th>\n",
       "      <td>where documents produced to commission of inqu...</td>\n",
       "      <td>AU29</td>\n",
       "    </tr>\n",
       "    <tr>\n",
       "      <th>3</th>\n",
       "      <td>leave to appealinterlocutory judgmentwhether s...</td>\n",
       "      <td>AU31</td>\n",
       "    </tr>\n",
       "    <tr>\n",
       "      <th>4</th>\n",
       "      <td>applicant, a married person who had undergone ...</td>\n",
       "      <td>AU38</td>\n",
       "    </tr>\n",
       "    <tr>\n",
       "      <th>...</th>\n",
       "      <td>...</td>\n",
       "      <td>...</td>\n",
       "    </tr>\n",
       "    <tr>\n",
       "      <th>795</th>\n",
       "      <td>Le LanderonLe Landeron is a municipality in th...</td>\n",
       "      <td>6292963</td>\n",
       "    </tr>\n",
       "    <tr>\n",
       "      <th>796</th>\n",
       "      <td>Saint-Blaise, SwitzerlandSaint-Blaise is a mun...</td>\n",
       "      <td>6293133</td>\n",
       "    </tr>\n",
       "    <tr>\n",
       "      <th>797</th>\n",
       "      <td>Tahirih Justice CenterThe Tahirih Justice Cent...</td>\n",
       "      <td>6220600</td>\n",
       "    </tr>\n",
       "    <tr>\n",
       "      <th>798</th>\n",
       "      <td>The Ladies of Grace Adieu and Other StoriesThe...</td>\n",
       "      <td>6221345</td>\n",
       "    </tr>\n",
       "    <tr>\n",
       "      <th>799</th>\n",
       "      <td>Bring It On (Alistair Griffin song)\"Bring It O...</td>\n",
       "      <td>6303818</td>\n",
       "    </tr>\n",
       "  </tbody>\n",
       "</table>\n",
       "<p>800 rows × 2 columns</p>\n",
       "</div>"
      ],
      "text/plain": [
       "                                                  text    label\n",
       "0    purported appeal from orders made by federal m...     AU11\n",
       "1    bankruptcy noticefailure by creditor to attach...     AU28\n",
       "2    where documents produced to commission of inqu...     AU29\n",
       "3    leave to appealinterlocutory judgmentwhether s...     AU31\n",
       "4    applicant, a married person who had undergone ...     AU38\n",
       "..                                                 ...      ...\n",
       "795  Le LanderonLe Landeron is a municipality in th...  6292963\n",
       "796  Saint-Blaise, SwitzerlandSaint-Blaise is a mun...  6293133\n",
       "797  Tahirih Justice CenterThe Tahirih Justice Cent...  6220600\n",
       "798  The Ladies of Grace Adieu and Other StoriesThe...  6221345\n",
       "799  Bring It On (Alistair Griffin song)\"Bring It O...  6303818\n",
       "\n",
       "[800 rows x 2 columns]"
      ]
     },
     "execution_count": 150,
     "metadata": {},
     "output_type": "execute_result"
    }
   ],
   "source": [
    "file = bz2.open(\"./datasets/Court-Wiki-Dataset.txt.bz2\", \"r\")\n",
    "mlist = []\n",
    "\n",
    "count = 0 \n",
    "for line in file:\n",
    "    count +=1\n",
    "\n",
    "    line = (lambda x : (x[x.index('id=\"') + 4 : x.index('\" url=')], x[x.index('\">') + 2:][:-6]))(str(line))\n",
    "    text = line[1]\n",
    "    \n",
    "    mlist.append({'text' : text, 'label' : line[0]})\n",
    "\n",
    "\n",
    "    if(count%100==0):\n",
    "        print(\"Line number: \" , count)\n",
    "\n",
    "print(\"Line number: \" , count)\n",
    "data = pd.DataFrame.from_dict(mlist)\n",
    "data "
   ]
  },
  {
   "cell_type": "code",
   "execution_count": 151,
   "id": "96a8cc96",
   "metadata": {},
   "outputs": [
    {
     "data": {
      "text/html": [
       "<div>\n",
       "<style scoped>\n",
       "    .dataframe tbody tr th:only-of-type {\n",
       "        vertical-align: middle;\n",
       "    }\n",
       "\n",
       "    .dataframe tbody tr th {\n",
       "        vertical-align: top;\n",
       "    }\n",
       "\n",
       "    .dataframe thead th {\n",
       "        text-align: right;\n",
       "    }\n",
       "</style>\n",
       "<table border=\"1\" class=\"dataframe\">\n",
       "  <thead>\n",
       "    <tr style=\"text-align: right;\">\n",
       "      <th></th>\n",
       "      <th>text</th>\n",
       "      <th>label</th>\n",
       "    </tr>\n",
       "  </thead>\n",
       "  <tbody>\n",
       "    <tr>\n",
       "      <th>0</th>\n",
       "      <td>purported appeal from orders made by federal m...</td>\n",
       "      <td>1</td>\n",
       "    </tr>\n",
       "    <tr>\n",
       "      <th>1</th>\n",
       "      <td>bankruptcy noticefailure by creditor to attach...</td>\n",
       "      <td>1</td>\n",
       "    </tr>\n",
       "    <tr>\n",
       "      <th>2</th>\n",
       "      <td>where documents produced to commission of inqu...</td>\n",
       "      <td>1</td>\n",
       "    </tr>\n",
       "    <tr>\n",
       "      <th>3</th>\n",
       "      <td>leave to appealinterlocutory judgmentwhether s...</td>\n",
       "      <td>1</td>\n",
       "    </tr>\n",
       "    <tr>\n",
       "      <th>4</th>\n",
       "      <td>applicant, a married person who had undergone ...</td>\n",
       "      <td>1</td>\n",
       "    </tr>\n",
       "    <tr>\n",
       "      <th>...</th>\n",
       "      <td>...</td>\n",
       "      <td>...</td>\n",
       "    </tr>\n",
       "    <tr>\n",
       "      <th>795</th>\n",
       "      <td>Le LanderonLe Landeron is a municipality in th...</td>\n",
       "      <td>0</td>\n",
       "    </tr>\n",
       "    <tr>\n",
       "      <th>796</th>\n",
       "      <td>Saint-Blaise, SwitzerlandSaint-Blaise is a mun...</td>\n",
       "      <td>0</td>\n",
       "    </tr>\n",
       "    <tr>\n",
       "      <th>797</th>\n",
       "      <td>Tahirih Justice CenterThe Tahirih Justice Cent...</td>\n",
       "      <td>0</td>\n",
       "    </tr>\n",
       "    <tr>\n",
       "      <th>798</th>\n",
       "      <td>The Ladies of Grace Adieu and Other StoriesThe...</td>\n",
       "      <td>0</td>\n",
       "    </tr>\n",
       "    <tr>\n",
       "      <th>799</th>\n",
       "      <td>Bring It On (Alistair Griffin song)\"Bring It O...</td>\n",
       "      <td>0</td>\n",
       "    </tr>\n",
       "  </tbody>\n",
       "</table>\n",
       "<p>800 rows × 2 columns</p>\n",
       "</div>"
      ],
      "text/plain": [
       "                                                  text  label\n",
       "0    purported appeal from orders made by federal m...      1\n",
       "1    bankruptcy noticefailure by creditor to attach...      1\n",
       "2    where documents produced to commission of inqu...      1\n",
       "3    leave to appealinterlocutory judgmentwhether s...      1\n",
       "4    applicant, a married person who had undergone ...      1\n",
       "..                                                 ...    ...\n",
       "795  Le LanderonLe Landeron is a municipality in th...      0\n",
       "796  Saint-Blaise, SwitzerlandSaint-Blaise is a mun...      0\n",
       "797  Tahirih Justice CenterThe Tahirih Justice Cent...      0\n",
       "798  The Ladies of Grace Adieu and Other StoriesThe...      0\n",
       "799  Bring It On (Alistair Griffin song)\"Bring It O...      0\n",
       "\n",
       "[800 rows x 2 columns]"
      ]
     },
     "execution_count": 151,
     "metadata": {},
     "output_type": "execute_result"
    }
   ],
   "source": [
    "# Convert the labels. \n",
    "# if it has AU it means it is an austrial court case report and if not it is a wikipedia article. \n",
    "data['label'] = data['label'].apply(lambda x: 1 if 'AU' in str(x) else 0 )\n",
    "data"
   ]
  },
  {
   "cell_type": "markdown",
   "id": "c75bac4e",
   "metadata": {},
   "source": [
    "# Creating Feature Matrix using TF-Idf\n",
    "\n",
    "https://scikit-learn.org/stable/modules/generated/sklearn.feature_extraction.text.TfidfVectorizer.html"
   ]
  },
  {
   "cell_type": "code",
   "execution_count": 152,
   "id": "799f224b",
   "metadata": {},
   "outputs": [
    {
     "name": "stdout",
     "output_type": "stream",
     "text": [
      "<class 'scipy.sparse._csr.csr_matrix'>\n",
      "(800, 500)\n",
      "<class 'numpy.ndarray'>\n"
     ]
    }
   ],
   "source": [
    "from sklearn.feature_extraction.text import TfidfVectorizer\n",
    "# https://scikit-learn.org/stable/modules/generated/sklearn.feature_extraction.text.TfidfVectorizer.html\n",
    "# Number of feature words is max_feature \n",
    "\n",
    "corpus = data['text'].to_numpy()\n",
    "vectorizer = TfidfVectorizer(lowercase=True, max_features=500)\n",
    "\n",
    "X = vectorizer.fit_transform(corpus)\n",
    "\n",
    "# print(vectorizer.get_feature_names_out())\n",
    "\n",
    "vectorizer.get_feature_names_out()\n",
    "print(type(X))\n",
    "print(X.shape)\n",
    "X=X.toarray()\n",
    "print(type(X))\n"
   ]
  },
  {
   "cell_type": "code",
   "execution_count": 153,
   "id": "9c29e496",
   "metadata": {},
   "outputs": [
    {
     "data": {
      "text/plain": [
       "(800,)"
      ]
     },
     "execution_count": 153,
     "metadata": {},
     "output_type": "execute_result"
    }
   ],
   "source": [
    "y = data['label'].to_numpy()\n",
    "y.shape"
   ]
  },
  {
   "cell_type": "code",
   "execution_count": 154,
   "id": "dbd8c4fe",
   "metadata": {},
   "outputs": [
    {
     "name": "stdout",
     "output_type": "stream",
     "text": [
      "count of Australian Court Cases 377\n"
     ]
    }
   ],
   "source": [
    "print(\"count of Australian Court Cases\", len(data[data['label'] ==1]))"
   ]
  },
  {
   "cell_type": "markdown",
   "id": "6dd73a0e",
   "metadata": {},
   "source": [
    "# Document Classification \n",
    "\n"
   ]
  },
  {
   "cell_type": "markdown",
   "id": "e373a6ec",
   "metadata": {},
   "source": [
    "## Traing and Test Data Split"
   ]
  },
  {
   "cell_type": "code",
   "execution_count": 155,
   "id": "ae4a2408",
   "metadata": {},
   "outputs": [],
   "source": [
    "from sklearn.model_selection import train_test_split\n",
    "\n",
    "X_train, X_test, y_train, y_test = train_test_split(X, y, test_size=0.2, random_state=123)"
   ]
  },
  {
   "cell_type": "markdown",
   "id": "ebd166fc",
   "metadata": {},
   "source": [
    "# 1. Logistic Regression"
   ]
  },
  {
   "cell_type": "code",
   "execution_count": 156,
   "id": "cd017c70",
   "metadata": {},
   "outputs": [
    {
     "name": "stdout",
     "output_type": "stream",
     "text": [
      "Accuracy of Classifier is:   0.9875\n",
      "              precision    recall  f1-score   support\n",
      "\n",
      "           0       1.00      0.98      0.99        81\n",
      "           1       0.98      1.00      0.99        79\n",
      "\n",
      "    accuracy                           0.99       160\n",
      "   macro avg       0.99      0.99      0.99       160\n",
      "weighted avg       0.99      0.99      0.99       160\n",
      "\n"
     ]
    }
   ],
   "source": [
    "from sklearn.linear_model import LogisticRegression\n",
    "from sklearn.metrics import accuracy_score\n",
    "from sklearn.metrics import classification_report\n",
    "\n",
    "model = LogisticRegression(max_iter=500, fit_intercept=True)\n",
    "model.fit(X_train,y_train)\n",
    "\n",
    "\n",
    "score = model.score(X_test, y_test)\n",
    "print(\"Accuracy of Classifier is:  \",  score)\n",
    "\n",
    "y_pred = model.predict(X_test)\n",
    "print(classification_report(y_test, y_pred))"
   ]
  },
  {
   "cell_type": "markdown",
   "id": "3a8146ae",
   "metadata": {},
   "source": [
    "# 2. Support Vector Machine - Linear SVM\n",
    "\n"
   ]
  },
  {
   "cell_type": "code",
   "execution_count": 157,
   "id": "06b6c6e6",
   "metadata": {},
   "outputs": [
    {
     "name": "stdout",
     "output_type": "stream",
     "text": [
      "Accuracy of Classifier is:   0.63125\n",
      "              precision    recall  f1-score   support\n",
      "\n",
      "           0       0.58      1.00      0.73        81\n",
      "           1       1.00      0.25      0.40        79\n",
      "\n",
      "    accuracy                           0.63       160\n",
      "   macro avg       0.79      0.63      0.57       160\n",
      "weighted avg       0.79      0.63      0.57       160\n",
      "\n"
     ]
    }
   ],
   "source": [
    "from sklearn.svm import SVC\n",
    "\n",
    "from sklearn.metrics import accuracy_score\n",
    "from sklearn.metrics import classification_report\n",
    "\n",
    "model = SVC(kernel=\"linear\", C=0.025)\n",
    "model.fit(X_train,y_train)\n",
    "\n",
    "\n",
    "score = model.score(X_test, y_test)\n",
    "print(\"Accuracy of Classifier is:  \",  score)\n",
    "\n",
    "y_pred = model.predict(X_test)\n",
    "print(classification_report(y_test, y_pred))"
   ]
  },
  {
   "cell_type": "markdown",
   "id": "bbe93a62",
   "metadata": {},
   "source": [
    "# 3. Support Vector Machine -  SVM with Radial basis function kernel"
   ]
  },
  {
   "cell_type": "code",
   "execution_count": 164,
   "id": "afc76abb",
   "metadata": {},
   "outputs": [
    {
     "name": "stdout",
     "output_type": "stream",
     "text": [
      "Accuracy of Classifier is:   0.99375\n",
      "              precision    recall  f1-score   support\n",
      "\n",
      "           0       0.99      1.00      0.99        81\n",
      "           1       1.00      0.99      0.99        79\n",
      "\n",
      "    accuracy                           0.99       160\n",
      "   macro avg       0.99      0.99      0.99       160\n",
      "weighted avg       0.99      0.99      0.99       160\n",
      "\n"
     ]
    }
   ],
   "source": [
    "from sklearn.svm import SVC\n",
    "\n",
    "from sklearn.metrics import accuracy_score\n",
    "from sklearn.metrics import classification_report\n",
    "\n",
    "# Radial basis function kernel\n",
    "# https://scikit-learn.org/stable/modules/generated/sklearn.svm.SVC.html#sklearn.svm.SVC\n",
    "model = SVC(gamma=2, C=1)\n",
    "\n",
    "model.fit(X_train,y_train)\n",
    "\n",
    "\n",
    "score = model.score(X_test, y_test)\n",
    "print(\"Accuracy of Classifier is:  \",  score)\n",
    "\n",
    "y_pred = model.predict(X_test)\n",
    "print(classification_report(y_test, y_pred))"
   ]
  },
  {
   "cell_type": "markdown",
   "id": "f86b2e20",
   "metadata": {},
   "source": [
    "# 4. Decision Tree Classifier\n",
    "\n",
    "https://scikit-learn.org/stable/modules/generated/sklearn.tree.DecisionTreeClassifier.html\n"
   ]
  },
  {
   "cell_type": "code",
   "execution_count": 165,
   "id": "188cc997",
   "metadata": {},
   "outputs": [
    {
     "name": "stdout",
     "output_type": "stream",
     "text": [
      "Accuracy of Classifier is:   0.99375\n",
      "              precision    recall  f1-score   support\n",
      "\n",
      "           0       1.00      0.99      0.99        81\n",
      "           1       0.99      1.00      0.99        79\n",
      "\n",
      "    accuracy                           0.99       160\n",
      "   macro avg       0.99      0.99      0.99       160\n",
      "weighted avg       0.99      0.99      0.99       160\n",
      "\n"
     ]
    }
   ],
   "source": [
    "from sklearn.tree import DecisionTreeClassifier\n",
    "\n",
    "from sklearn.metrics import accuracy_score\n",
    "from sklearn.metrics import classification_report\n",
    "\n",
    "# Decision Tree Classifier\n",
    "# https://scikit-learn.org/stable/modules/generated/sklearn.tree.DecisionTreeClassifier.html\n",
    "model =  DecisionTreeClassifier(max_depth=5)\n",
    "\n",
    "model.fit(X_train,y_train)\n",
    "\n",
    "\n",
    "score = model.score(X_test, y_test)\n",
    "print(\"Accuracy of Classifier is:  \",  score)\n",
    "\n",
    "y_pred = model.predict(X_test)\n",
    "print(classification_report(y_test, y_pred))\n"
   ]
  },
  {
   "cell_type": "markdown",
   "id": "a3c9ef86",
   "metadata": {},
   "source": [
    "# 5. Gaussian Naive Bayes\n",
    "\n",
    "https://scikit-learn.org/stable/modules/generated/sklearn.naive_bayes.GaussianNB.html"
   ]
  },
  {
   "cell_type": "code",
   "execution_count": 166,
   "id": "fbabe0ba",
   "metadata": {},
   "outputs": [
    {
     "name": "stdout",
     "output_type": "stream",
     "text": [
      "Accuracy of Classifier is:   1.0\n",
      "              precision    recall  f1-score   support\n",
      "\n",
      "           0       1.00      1.00      1.00        81\n",
      "           1       1.00      1.00      1.00        79\n",
      "\n",
      "    accuracy                           1.00       160\n",
      "   macro avg       1.00      1.00      1.00       160\n",
      "weighted avg       1.00      1.00      1.00       160\n",
      "\n"
     ]
    }
   ],
   "source": [
    "from sklearn.naive_bayes import GaussianNB\n",
    "\n",
    "from sklearn.metrics import accuracy_score\n",
    "from sklearn.metrics import classification_report\n",
    "\n",
    "# Decision Tree Classifier\n",
    "# https://scikit-learn.org/stable/modules/generated/sklearn.naive_bayes.GaussianNB.html\n",
    "model =  GaussianNB()\n",
    "\n",
    "\n",
    "model.fit(X_train,y_train)\n",
    "\n",
    "\n",
    "score = model.score(X_test, y_test)\n",
    "print(\"Accuracy of Classifier is:  \",  score)\n",
    "\n",
    "y_pred = model.predict(X_test)\n",
    "print(classification_report(y_test, y_pred))"
   ]
  },
  {
   "cell_type": "markdown",
   "id": "f3d39dc9",
   "metadata": {},
   "source": [
    "# 6. Random Forest Classifier\n",
    "https://scikit-learn.org/stable/modules/generated/sklearn.ensemble.RandomForestClassifier.html"
   ]
  },
  {
   "cell_type": "code",
   "execution_count": 167,
   "id": "bf5b57cc",
   "metadata": {},
   "outputs": [
    {
     "name": "stdout",
     "output_type": "stream",
     "text": [
      "Accuracy of Classifier is:   0.98125\n",
      "              precision    recall  f1-score   support\n",
      "\n",
      "           0       0.96      1.00      0.98        81\n",
      "           1       1.00      0.96      0.98        79\n",
      "\n",
      "    accuracy                           0.98       160\n",
      "   macro avg       0.98      0.98      0.98       160\n",
      "weighted avg       0.98      0.98      0.98       160\n",
      "\n"
     ]
    }
   ],
   "source": [
    "from sklearn.ensemble import RandomForestClassifier\n",
    "\n",
    "\n",
    "from sklearn.metrics import accuracy_score\n",
    "from sklearn.metrics import classification_report\n",
    "\n",
    "# Random Forest Classifier\n",
    "# https://scikit-learn.org/stable/modules/generated/sklearn.ensemble.RandomForestClassifier.html\n",
    "model =  RandomForestClassifier(max_depth=5, n_estimators=10, max_features=1)\n",
    "\n",
    "model.fit(X_train,y_train)\n",
    "\n",
    "score = model.score(X_test, y_test)\n",
    "print(\"Accuracy of Classifier is:  \",  score)\n",
    "\n",
    "y_pred = model.predict(X_test)\n",
    "print(classification_report(y_test, y_pred))\n"
   ]
  },
  {
   "cell_type": "markdown",
   "id": "9e366096",
   "metadata": {},
   "source": [
    "# 7. AdaBoostClassifier\n",
    "https://scikit-learn.org/stable/modules/generated/sklearn.ensemble.AdaBoostClassifier.html"
   ]
  },
  {
   "cell_type": "code",
   "execution_count": 168,
   "id": "114d7736",
   "metadata": {},
   "outputs": [
    {
     "name": "stdout",
     "output_type": "stream",
     "text": [
      "Accuracy of Classifier is:   1.0\n",
      "              precision    recall  f1-score   support\n",
      "\n",
      "           0       1.00      1.00      1.00        81\n",
      "           1       1.00      1.00      1.00        79\n",
      "\n",
      "    accuracy                           1.00       160\n",
      "   macro avg       1.00      1.00      1.00       160\n",
      "weighted avg       1.00      1.00      1.00       160\n",
      "\n"
     ]
    }
   ],
   "source": [
    "from sklearn.ensemble import AdaBoostClassifier\n",
    "\n",
    "from sklearn.metrics import accuracy_score\n",
    "from sklearn.metrics import classification_report\n",
    "\n",
    "# AdaBoostClassifier\n",
    "# https://scikit-learn.org/stable/modules/generated/sklearn.ensemble.AdaBoostClassifier.html\n",
    "model =  AdaBoostClassifier()\n",
    "\n",
    "\n",
    "model.fit(X_train,y_train)\n",
    "\n",
    "\n",
    "score = model.score(X_test, y_test)\n",
    "print(\"Accuracy of Classifier is:  \",  score)\n",
    "\n",
    "y_pred = model.predict(X_test)\n",
    "print(classification_report(y_test, y_pred))"
   ]
  },
  {
   "cell_type": "code",
   "execution_count": null,
   "id": "5c11a82d",
   "metadata": {},
   "outputs": [],
   "source": []
  },
  {
   "cell_type": "code",
   "execution_count": null,
   "id": "ae27c080",
   "metadata": {},
   "outputs": [],
   "source": []
  },
  {
   "cell_type": "code",
   "execution_count": null,
   "id": "7fa12548",
   "metadata": {},
   "outputs": [],
   "source": []
  }
 ],
 "metadata": {
  "kernelspec": {
   "display_name": "Python 3 (ipykernel)",
   "language": "python",
   "name": "python3"
  },
  "language_info": {
   "codemirror_mode": {
    "name": "ipython",
    "version": 3
   },
   "file_extension": ".py",
   "mimetype": "text/x-python",
   "name": "python",
   "nbconvert_exporter": "python",
   "pygments_lexer": "ipython3",
   "version": "3.9.13"
  }
 },
 "nbformat": 4,
 "nbformat_minor": 5
}
