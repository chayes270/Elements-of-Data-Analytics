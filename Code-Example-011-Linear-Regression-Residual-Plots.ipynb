{
 "cells": [
  {
   "cell_type": "code",
   "execution_count": 1,
   "metadata": {},
   "outputs": [],
   "source": [
    "import numpy as np\n",
    "import matplotlib.pyplot as plt\n",
    "import pandas as pd"
   ]
  },
  {
   "cell_type": "markdown",
   "metadata": {},
   "source": [
    "# Correlation\n",
    "\n",
    "Is there an association between the number of hours spent studying and the performance on the final exam? \n"
   ]
  },
  {
   "cell_type": "code",
   "execution_count": 2,
   "metadata": {},
   "outputs": [
    {
     "name": "stdout",
     "output_type": "stream",
     "text": [
      "<class 'pandas.core.frame.DataFrame'>\n",
      "RangeIndex: 100 entries, 0 to 99\n",
      "Data columns (total 3 columns):\n",
      " #   Column  Non-Null Count  Dtype\n",
      "---  ------  --------------  -----\n",
      " 0   age     100 non-null    int64\n",
      " 1   height  100 non-null    int64\n",
      " 2   salary  100 non-null    int64\n",
      "dtypes: int64(3)\n",
      "memory usage: 2.5 KB\n"
     ]
    }
   ],
   "source": [
    "ceo_df = pd.read_csv(\"./datasets/CEO_salary.csv\")\n",
    "ceo_df.info()"
   ]
  },
  {
   "cell_type": "code",
   "execution_count": 3,
   "metadata": {},
   "outputs": [
    {
     "data": {
      "text/html": [
       "<div>\n",
       "<style scoped>\n",
       "    .dataframe tbody tr th:only-of-type {\n",
       "        vertical-align: middle;\n",
       "    }\n",
       "\n",
       "    .dataframe tbody tr th {\n",
       "        vertical-align: top;\n",
       "    }\n",
       "\n",
       "    .dataframe thead th {\n",
       "        text-align: right;\n",
       "    }\n",
       "</style>\n",
       "<table border=\"1\" class=\"dataframe\">\n",
       "  <thead>\n",
       "    <tr style=\"text-align: right;\">\n",
       "      <th></th>\n",
       "      <th>age</th>\n",
       "      <th>height</th>\n",
       "      <th>salary</th>\n",
       "    </tr>\n",
       "  </thead>\n",
       "  <tbody>\n",
       "    <tr>\n",
       "      <th>0</th>\n",
       "      <td>57</td>\n",
       "      <td>74</td>\n",
       "      <td>518889</td>\n",
       "    </tr>\n",
       "    <tr>\n",
       "      <th>1</th>\n",
       "      <td>64</td>\n",
       "      <td>74</td>\n",
       "      <td>536408</td>\n",
       "    </tr>\n",
       "    <tr>\n",
       "      <th>2</th>\n",
       "      <td>52</td>\n",
       "      <td>70</td>\n",
       "      <td>496345</td>\n",
       "    </tr>\n",
       "    <tr>\n",
       "      <th>3</th>\n",
       "      <td>63</td>\n",
       "      <td>64</td>\n",
       "      <td>508838</td>\n",
       "    </tr>\n",
       "    <tr>\n",
       "      <th>4</th>\n",
       "      <td>29</td>\n",
       "      <td>75</td>\n",
       "      <td>451312</td>\n",
       "    </tr>\n",
       "    <tr>\n",
       "      <th>...</th>\n",
       "      <td>...</td>\n",
       "      <td>...</td>\n",
       "      <td>...</td>\n",
       "    </tr>\n",
       "    <tr>\n",
       "      <th>95</th>\n",
       "      <td>60</td>\n",
       "      <td>67</td>\n",
       "      <td>508847</td>\n",
       "    </tr>\n",
       "    <tr>\n",
       "      <th>96</th>\n",
       "      <td>60</td>\n",
       "      <td>72</td>\n",
       "      <td>521384</td>\n",
       "    </tr>\n",
       "    <tr>\n",
       "      <th>97</th>\n",
       "      <td>35</td>\n",
       "      <td>64</td>\n",
       "      <td>438752</td>\n",
       "    </tr>\n",
       "    <tr>\n",
       "      <th>98</th>\n",
       "      <td>27</td>\n",
       "      <td>70</td>\n",
       "      <td>433771</td>\n",
       "    </tr>\n",
       "    <tr>\n",
       "      <th>99</th>\n",
       "      <td>47</td>\n",
       "      <td>78</td>\n",
       "      <td>503887</td>\n",
       "    </tr>\n",
       "  </tbody>\n",
       "</table>\n",
       "<p>100 rows × 3 columns</p>\n",
       "</div>"
      ],
      "text/plain": [
       "    age  height  salary\n",
       "0    57      74  518889\n",
       "1    64      74  536408\n",
       "2    52      70  496345\n",
       "3    63      64  508838\n",
       "4    29      75  451312\n",
       "..  ...     ...     ...\n",
       "95   60      67  508847\n",
       "96   60      72  521384\n",
       "97   35      64  438752\n",
       "98   27      70  433771\n",
       "99   47      78  503887\n",
       "\n",
       "[100 rows x 3 columns]"
      ]
     },
     "execution_count": 3,
     "metadata": {},
     "output_type": "execute_result"
    }
   ],
   "source": [
    "ceo_df"
   ]
  },
  {
   "cell_type": "code",
   "execution_count": 4,
   "metadata": {},
   "outputs": [
    {
     "data": {
      "text/html": [
       "<div>\n",
       "<style scoped>\n",
       "    .dataframe tbody tr th:only-of-type {\n",
       "        vertical-align: middle;\n",
       "    }\n",
       "\n",
       "    .dataframe tbody tr th {\n",
       "        vertical-align: top;\n",
       "    }\n",
       "\n",
       "    .dataframe thead th {\n",
       "        text-align: right;\n",
       "    }\n",
       "</style>\n",
       "<table border=\"1\" class=\"dataframe\">\n",
       "  <thead>\n",
       "    <tr style=\"text-align: right;\">\n",
       "      <th></th>\n",
       "      <th>age</th>\n",
       "      <th>height</th>\n",
       "      <th>salary</th>\n",
       "    </tr>\n",
       "  </thead>\n",
       "  <tbody>\n",
       "    <tr>\n",
       "      <th>age</th>\n",
       "      <td>1.000000</td>\n",
       "      <td>-0.062864</td>\n",
       "      <td>0.929197</td>\n",
       "    </tr>\n",
       "    <tr>\n",
       "      <th>height</th>\n",
       "      <td>-0.062864</td>\n",
       "      <td>1.000000</td>\n",
       "      <td>0.310440</td>\n",
       "    </tr>\n",
       "    <tr>\n",
       "      <th>salary</th>\n",
       "      <td>0.929197</td>\n",
       "      <td>0.310440</td>\n",
       "      <td>1.000000</td>\n",
       "    </tr>\n",
       "  </tbody>\n",
       "</table>\n",
       "</div>"
      ],
      "text/plain": [
       "             age    height    salary\n",
       "age     1.000000 -0.062864  0.929197\n",
       "height -0.062864  1.000000  0.310440\n",
       "salary  0.929197  0.310440  1.000000"
      ]
     },
     "execution_count": 4,
     "metadata": {},
     "output_type": "execute_result"
    }
   ],
   "source": [
    "# See Pandas Documentation for pandas correlation calculation. \n",
    "# https://pandas.pydata.org/docs/reference/api/pandas.DataFrame.corr.html?highlight=corr\n",
    "ceo_df.corr()"
   ]
  },
  {
   "cell_type": "code",
   "execution_count": 5,
   "metadata": {},
   "outputs": [],
   "source": [
    "age = ceo_df[\"age\"]\n",
    "height = ceo_df[\"height\"]\n",
    "salary = ceo_df[\"salary\"]"
   ]
  },
  {
   "cell_type": "code",
   "execution_count": 6,
   "metadata": {},
   "outputs": [
    {
     "name": "stdout",
     "output_type": "stream",
     "text": [
      "[[57 74]\n",
      " [64 74]\n",
      " [52 70]\n",
      " [63 64]\n",
      " [29 75]\n",
      " [29 74]\n",
      " [45 65]\n",
      " [62 78]\n",
      " [48 64]\n",
      " [38 66]\n",
      " [37 64]\n",
      " [33 78]\n",
      " [32 74]\n",
      " [62 74]\n",
      " [51 64]\n",
      " [51 72]\n",
      " [25 69]\n",
      " [39 75]\n",
      " [47 69]\n",
      " [41 74]\n",
      " [39 67]\n",
      " [34 67]\n",
      " [55 65]\n",
      " [53 64]\n",
      " [65 78]\n",
      " [64 73]\n",
      " [27 67]\n",
      " [29 75]\n",
      " [30 70]\n",
      " [28 78]\n",
      " [39 68]\n",
      " [55 67]\n",
      " [62 69]\n",
      " [34 73]\n",
      " [53 78]\n",
      " [56 72]\n",
      " [33 72]\n",
      " [57 64]\n",
      " [59 74]\n",
      " [30 68]\n",
      " [32 74]\n",
      " [37 78]\n",
      " [52 75]\n",
      " [58 70]\n",
      " [44 65]\n",
      " [46 72]\n",
      " [62 72]\n",
      " [35 67]\n",
      " [62 64]\n",
      " [29 65]\n",
      " [35 72]\n",
      " [41 75]\n",
      " [60 65]\n",
      " [54 75]\n",
      " [63 70]\n",
      " [36 69]\n",
      " [35 76]\n",
      " [39 67]\n",
      " [55 64]\n",
      " [35 64]\n",
      " [57 68]\n",
      " [29 67]\n",
      " [53 72]\n",
      " [29 74]\n",
      " [40 68]\n",
      " [60 65]\n",
      " [35 78]\n",
      " [34 68]\n",
      " [41 75]\n",
      " [31 66]\n",
      " [53 78]\n",
      " [53 64]\n",
      " [54 75]\n",
      " [65 78]\n",
      " [41 69]\n",
      " [43 65]\n",
      " [50 69]\n",
      " [36 78]\n",
      " [41 71]\n",
      " [52 68]\n",
      " [60 76]\n",
      " [53 73]\n",
      " [38 68]\n",
      " [57 67]\n",
      " [27 78]\n",
      " [62 67]\n",
      " [41 74]\n",
      " [44 75]\n",
      " [49 69]\n",
      " [31 74]\n",
      " [42 76]\n",
      " [45 72]\n",
      " [53 76]\n",
      " [42 74]\n",
      " [58 67]\n",
      " [60 67]\n",
      " [60 72]\n",
      " [35 64]\n",
      " [27 70]\n",
      " [47 78]]\n"
     ]
    }
   ],
   "source": [
    "import numpy as np\n",
    "from sklearn.linear_model import LinearRegression\n",
    "\n",
    "# Prepare the data in higher dimentions, List of Lists, Array of Arrays\n",
    "my_X = np.vstack((age,height, )).T\n",
    "print(my_X)"
   ]
  },
  {
   "cell_type": "code",
   "execution_count": 7,
   "metadata": {},
   "outputs": [
    {
     "name": "stdout",
     "output_type": "stream",
     "text": [
      "[2502.99561142 2507.03232683]\n",
      "190697.2913678494\n"
     ]
    }
   ],
   "source": [
    "reg = LinearRegression().fit(my_X, salary)\n",
    "\n",
    "# print(dir(reg))\n",
    "print(reg.coef_)\n",
    "print(reg.intercept_)\n"
   ]
  },
  {
   "cell_type": "code",
   "execution_count": 8,
   "metadata": {},
   "outputs": [
    {
     "data": {
      "text/plain": [
       "0.9999999986393414"
      ]
     },
     "execution_count": 8,
     "metadata": {},
     "output_type": "execute_result"
    }
   ],
   "source": [
    "reg.score(my_X, salary)"
   ]
  },
  {
   "cell_type": "code",
   "execution_count": 9,
   "metadata": {},
   "outputs": [],
   "source": [
    "# Install yellowbrick package \n",
    "# ! pip install yellowbrick"
   ]
  },
  {
   "cell_type": "code",
   "execution_count": 10,
   "metadata": {},
   "outputs": [
    {
     "data": {
      "image/png": "[encoded data removed]",
      "text/plain": [
       "<Figure size 576x396 with 2 Axes>"
      ]
     },
     "metadata": {},
     "output_type": "display_data"
    },
    {
     "data": {
      "text/plain": [
       "<matplotlib.axes._subplots.AxesSubplot at 0x7ff7a04002b0>"
      ]
     },
     "execution_count": 10,
     "metadata": {},
     "output_type": "execute_result"
    }
   ],
   "source": [
    "# from sklearn.linear_model import Ridge\n",
    "from sklearn.linear_model import LinearRegression\n",
    "from sklearn.model_selection import train_test_split\n",
    "\n",
    "from yellowbrick.regressor import ResidualsPlot\n",
    "\n",
    "\n",
    "# Create the train and test data\n",
    "# X_train, X_test, y_train, y_test = train_test_split(my_X, salary, test_size=0.3, random_state=123)\n",
    "\n",
    "# Instantiate the linear model and visualizer\n",
    "model = LinearRegression()\n",
    "visualizer = ResidualsPlot(model)\n",
    "\n",
    "\n",
    "visualizer.fit(my_X, salary)  # Fit the training data to the visualizer\n",
    "# visualizer.score(X_test, y_test)  # Evaluate the model on the test data\n",
    "visualizer.show()                 # Finalize and render the figure"
   ]
  },
  {
   "cell_type": "code",
   "execution_count": null,
   "metadata": {},
   "outputs": [],
   "source": []
  }
 ],
 "metadata": {
  "kernelspec": {
   "display_name": "Python 3",
   "language": "python",
   "name": "python3"
  },
  "language_info": {
   "codemirror_mode": {
    "name": "ipython",
    "version": 3
   },
   "file_extension": ".py",
   "mimetype": "text/x-python",
   "name": "python",
   "nbconvert_exporter": "python",
   "pygments_lexer": "ipython3",
   "version": "3.8.3"
  }
 },
 "nbformat": 4,
 "nbformat_minor": 4
}
