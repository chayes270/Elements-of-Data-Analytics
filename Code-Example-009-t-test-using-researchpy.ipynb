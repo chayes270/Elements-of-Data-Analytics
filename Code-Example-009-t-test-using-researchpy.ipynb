{
 "cells": [
  {
   "cell_type": "code",
   "execution_count": 1,
   "metadata": {},
   "outputs": [],
   "source": [
    "# Install the package researchpy if not done before. \n",
    "# !pip install researchpy"
   ]
  },
  {
   "cell_type": "code",
   "execution_count": 2,
   "metadata": {},
   "outputs": [],
   "source": [
    "import pandas as pd\n",
    "import researchpy as rp\n",
    "import scipy.stats as stats"
   ]
  },
  {
   "cell_type": "code",
   "execution_count": 3,
   "metadata": {},
   "outputs": [
    {
     "name": "stdout",
     "output_type": "stream",
     "text": [
      "<class 'pandas.core.frame.DataFrame'>\n",
      "RangeIndex: 120 entries, 0 to 119\n",
      "Data columns (total 5 columns):\n",
      " #   Column     Non-Null Count  Dtype \n",
      "---  ------     --------------  ----- \n",
      " 0   patient    120 non-null    int64 \n",
      " 1   sex        120 non-null    object\n",
      " 2   agegrp     120 non-null    object\n",
      " 3   bp_before  120 non-null    int64 \n",
      " 4   bp_after   120 non-null    int64 \n",
      "dtypes: int64(3), object(2)\n",
      "memory usage: 4.8+ KB\n"
     ]
    }
   ],
   "source": [
    "df = pd.read_csv(\"https://raw.githubusercontent.com/researchpy/Data-sets/master/blood_pressure.csv\")\n",
    "df.info()"
   ]
  },
  {
   "cell_type": "code",
   "execution_count": 4,
   "metadata": {},
   "outputs": [
    {
     "data": {
      "text/plain": [
       "(   Variable      N        Mean         SD        SE   95% Conf.    Interval\n",
       " 0      Male   60.0  155.516667  15.243217  1.967891  151.578926  159.454407\n",
       " 1    Female   60.0  147.200000  11.742722  1.515979  144.166533  150.233467\n",
       " 2  combined  120.0  151.358333  14.177622  1.294234  148.795621  153.921046,\n",
       "               Independent t-test   results\n",
       " 0  Difference (Male - Female) =     8.3167\n",
       " 1          Degrees of freedom =   118.0000\n",
       " 2                           t =     3.3480\n",
       " 3       Two side test p value =     0.0011\n",
       " 4      Difference < 0 p value =     0.9995\n",
       " 5      Difference > 0 p value =     0.0005\n",
       " 6                   Cohen's d =     0.6112\n",
       " 7                   Hedge's g =     0.6074\n",
       " 8               Glass's delta =     0.5456\n",
       " 9                 Pearson's r =     0.2945)"
      ]
     },
     "execution_count": 4,
     "metadata": {},
     "output_type": "execute_result"
    }
   ],
   "source": [
    "rp.ttest(group1= df['bp_after'][df['sex'] == 'Male'], group1_name= \"Male\",\n",
    "         group2= df['bp_after'][df['sex'] == 'Female'], group2_name= \"Female\")"
   ]
  },
  {
   "cell_type": "code",
   "execution_count": 5,
   "metadata": {},
   "outputs": [
    {
     "name": "stdout",
     "output_type": "stream",
     "text": [
      "   Variable      N        Mean         SD        SE   95% Conf.    Interval\n",
      "0      Male   60.0  155.516667  15.243217  1.967891  151.578926  159.454407\n",
      "1    Female   60.0  147.200000  11.742722  1.515979  144.166533  150.233467\n",
      "2  combined  120.0  151.358333  14.177622  1.294234  148.795621  153.921046\n"
     ]
    }
   ],
   "source": [
    "summary, results = rp.ttest(group1= df['bp_after'][df['sex'] == 'Male'], group1_name= \"Male\",\n",
    "                            group2= df['bp_after'][df['sex'] == 'Female'], group2_name= \"Female\")\n",
    "print(summary)"
   ]
  },
  {
   "cell_type": "code",
   "execution_count": null,
   "metadata": {},
   "outputs": [],
   "source": []
  }
 ],
 "metadata": {
  "kernelspec": {
   "display_name": "Python 3",
   "language": "python",
   "name": "python3"
  },
  "language_info": {
   "codemirror_mode": {
    "name": "ipython",
    "version": 3
   },
   "file_extension": ".py",
   "mimetype": "text/x-python",
   "name": "python",
   "nbconvert_exporter": "python",
   "pygments_lexer": "ipython3",
   "version": "3.8.3"
  }
 },
 "nbformat": 4,
 "nbformat_minor": 4
}
