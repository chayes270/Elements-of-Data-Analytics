{
 "cells": [
  {
   "cell_type": "code",
   "execution_count": 1,
   "metadata": {},
   "outputs": [],
   "source": [
    "# Install the package researchpy if not done before. \n",
    "# !pip install researchpy"
   ]
  },
  {
   "cell_type": "code",
   "execution_count": 2,
   "metadata": {},
   "outputs": [],
   "source": [
    "import pandas as pd\n",
    "import researchpy as rp\n",
    "import scipy.stats as stats"
   ]
  },
  {
   "cell_type": "code",
   "execution_count": 4,
   "metadata": {},
   "outputs": [
    {
     "name": "stdout",
     "output_type": "stream",
     "text": [
      "<class 'pandas.core.frame.DataFrame'>\n",
      "RangeIndex: 120 entries, 0 to 119\n",
      "Data columns (total 5 columns):\n",
      " #   Column     Non-Null Count  Dtype \n",
      "---  ------     --------------  ----- \n",
      " 0   patient    120 non-null    int64 \n",
      " 1   sex        120 non-null    object\n",
      " 2   agegrp     120 non-null    object\n",
      " 3   bp_before  120 non-null    int64 \n",
      " 4   bp_after   120 non-null    int64 \n",
      "dtypes: int64(3), object(2)\n",
      "memory usage: 4.8+ KB\n"
     ]
    }
   ],
   "source": [
    "df = pd.read_csv(\"https://raw.githubusercontent.com/researchpy/Data-sets/master/blood_pressure.csv\")\n",
    "df.info()"
   ]
  },
  {
   "cell_type": "code",
   "execution_count": 5,
   "metadata": {},
   "outputs": [
    {
     "data": {
      "text/html": [
       "<div>\n",
       "<style scoped>\n",
       "    .dataframe tbody tr th:only-of-type {\n",
       "        vertical-align: middle;\n",
       "    }\n",
       "\n",
       "    .dataframe tbody tr th {\n",
       "        vertical-align: top;\n",
       "    }\n",
       "\n",
       "    .dataframe thead th {\n",
       "        text-align: right;\n",
       "    }\n",
       "</style>\n",
       "<table border=\"1\" class=\"dataframe\">\n",
       "  <thead>\n",
       "    <tr style=\"text-align: right;\">\n",
       "      <th></th>\n",
       "      <th>patient</th>\n",
       "      <th>sex</th>\n",
       "      <th>agegrp</th>\n",
       "      <th>bp_before</th>\n",
       "      <th>bp_after</th>\n",
       "    </tr>\n",
       "  </thead>\n",
       "  <tbody>\n",
       "    <tr>\n",
       "      <th>0</th>\n",
       "      <td>1</td>\n",
       "      <td>Male</td>\n",
       "      <td>30-45</td>\n",
       "      <td>143</td>\n",
       "      <td>153</td>\n",
       "    </tr>\n",
       "    <tr>\n",
       "      <th>1</th>\n",
       "      <td>2</td>\n",
       "      <td>Male</td>\n",
       "      <td>30-45</td>\n",
       "      <td>163</td>\n",
       "      <td>170</td>\n",
       "    </tr>\n",
       "    <tr>\n",
       "      <th>2</th>\n",
       "      <td>3</td>\n",
       "      <td>Male</td>\n",
       "      <td>30-45</td>\n",
       "      <td>153</td>\n",
       "      <td>168</td>\n",
       "    </tr>\n",
       "    <tr>\n",
       "      <th>3</th>\n",
       "      <td>4</td>\n",
       "      <td>Male</td>\n",
       "      <td>30-45</td>\n",
       "      <td>153</td>\n",
       "      <td>142</td>\n",
       "    </tr>\n",
       "    <tr>\n",
       "      <th>4</th>\n",
       "      <td>5</td>\n",
       "      <td>Male</td>\n",
       "      <td>30-45</td>\n",
       "      <td>146</td>\n",
       "      <td>141</td>\n",
       "    </tr>\n",
       "    <tr>\n",
       "      <th>...</th>\n",
       "      <td>...</td>\n",
       "      <td>...</td>\n",
       "      <td>...</td>\n",
       "      <td>...</td>\n",
       "      <td>...</td>\n",
       "    </tr>\n",
       "    <tr>\n",
       "      <th>115</th>\n",
       "      <td>116</td>\n",
       "      <td>Female</td>\n",
       "      <td>60+</td>\n",
       "      <td>152</td>\n",
       "      <td>152</td>\n",
       "    </tr>\n",
       "    <tr>\n",
       "      <th>116</th>\n",
       "      <td>117</td>\n",
       "      <td>Female</td>\n",
       "      <td>60+</td>\n",
       "      <td>161</td>\n",
       "      <td>152</td>\n",
       "    </tr>\n",
       "    <tr>\n",
       "      <th>117</th>\n",
       "      <td>118</td>\n",
       "      <td>Female</td>\n",
       "      <td>60+</td>\n",
       "      <td>165</td>\n",
       "      <td>174</td>\n",
       "    </tr>\n",
       "    <tr>\n",
       "      <th>118</th>\n",
       "      <td>119</td>\n",
       "      <td>Female</td>\n",
       "      <td>60+</td>\n",
       "      <td>149</td>\n",
       "      <td>151</td>\n",
       "    </tr>\n",
       "    <tr>\n",
       "      <th>119</th>\n",
       "      <td>120</td>\n",
       "      <td>Female</td>\n",
       "      <td>60+</td>\n",
       "      <td>185</td>\n",
       "      <td>163</td>\n",
       "    </tr>\n",
       "  </tbody>\n",
       "</table>\n",
       "<p>120 rows × 5 columns</p>\n",
       "</div>"
      ],
      "text/plain": [
       "     patient     sex agegrp  bp_before  bp_after\n",
       "0          1    Male  30-45        143       153\n",
       "1          2    Male  30-45        163       170\n",
       "2          3    Male  30-45        153       168\n",
       "3          4    Male  30-45        153       142\n",
       "4          5    Male  30-45        146       141\n",
       "..       ...     ...    ...        ...       ...\n",
       "115      116  Female    60+        152       152\n",
       "116      117  Female    60+        161       152\n",
       "117      118  Female    60+        165       174\n",
       "118      119  Female    60+        149       151\n",
       "119      120  Female    60+        185       163\n",
       "\n",
       "[120 rows x 5 columns]"
      ]
     },
     "execution_count": 5,
     "metadata": {},
     "output_type": "execute_result"
    }
   ],
   "source": [
    "df"
   ]
  },
  {
   "cell_type": "code",
   "execution_count": 4,
   "metadata": {},
   "outputs": [
    {
     "data": {
      "text/plain": [
       "(   Variable      N        Mean         SD        SE   95% Conf.    Interval\n",
       " 0      Male   60.0  155.516667  15.243217  1.967891  151.578926  159.454407\n",
       " 1    Female   60.0  147.200000  11.742722  1.515979  144.166533  150.233467\n",
       " 2  combined  120.0  151.358333  14.177622  1.294234  148.795621  153.921046,\n",
       "               Independent t-test   results\n",
       " 0  Difference (Male - Female) =     8.3167\n",
       " 1          Degrees of freedom =   118.0000\n",
       " 2                           t =     3.3480\n",
       " 3       Two side test p value =     0.0011\n",
       " 4      Difference < 0 p value =     0.9995\n",
       " 5      Difference > 0 p value =     0.0005\n",
       " 6                   Cohen's d =     0.6112\n",
       " 7                   Hedge's g =     0.6074\n",
       " 8               Glass's delta =     0.5456\n",
       " 9                 Pearson's r =     0.2945)"
      ]
     },
     "execution_count": 4,
     "metadata": {},
     "output_type": "execute_result"
    }
   ],
   "source": [
    "rp.ttest(group1= df['bp_after'][df['sex'] == 'Male'], group1_name= \"Male\",\n",
    "         group2= df['bp_after'][df['sex'] == 'Female'], group2_name= \"Female\")"
   ]
  },
  {
   "cell_type": "code",
   "execution_count": 5,
   "metadata": {},
   "outputs": [
    {
     "name": "stdout",
     "output_type": "stream",
     "text": [
      "   Variable      N        Mean         SD        SE   95% Conf.    Interval\n",
      "0      Male   60.0  155.516667  15.243217  1.967891  151.578926  159.454407\n",
      "1    Female   60.0  147.200000  11.742722  1.515979  144.166533  150.233467\n",
      "2  combined  120.0  151.358333  14.177622  1.294234  148.795621  153.921046\n"
     ]
    }
   ],
   "source": [
    "summary, results = rp.ttest(group1= df['bp_after'][df['sex'] == 'Male'], group1_name= \"Male\",\n",
    "                            group2= df['bp_after'][df['sex'] == 'Female'], group2_name= \"Female\")\n",
    "print(summary)"
   ]
  },
  {
   "cell_type": "code",
   "execution_count": null,
   "metadata": {},
   "outputs": [],
   "source": []
  }
 ],
 "metadata": {
  "kernelspec": {
   "display_name": "Python 3 (ipykernel)",
   "language": "python",
   "name": "python3"
  },
  "language_info": {
   "codemirror_mode": {
    "name": "ipython",
    "version": 3
   },
   "file_extension": ".py",
   "mimetype": "text/x-python",
   "name": "python",
   "nbconvert_exporter": "python",
   "pygments_lexer": "ipython3",
   "version": "3.9.7"
  }
 },
 "nbformat": 4,
 "nbformat_minor": 4
}
