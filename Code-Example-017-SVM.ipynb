{
 "cells": [
  {
   "cell_type": "markdown",
   "metadata": {},
   "source": [
    "# Support Vector Machine\n"
   ]
  },
  {
   "cell_type": "code",
   "execution_count": 1,
   "metadata": {},
   "outputs": [],
   "source": [
    "import numpy as np\n",
    "import pandas as pd\n",
    "\n",
    "from scipy.stats import norm\n",
    "from sklearn.datasets import make_blobs\n",
    "\n",
    "from matplotlib import pyplot\n",
    "import matplotlib.pyplot as plt\n",
    "\n",
    "import matplotlib.cm as cm\n",
    "from random import sample"
   ]
  },
  {
   "cell_type": "markdown",
   "metadata": {},
   "source": [
    "## Generating Some Example Data with 2 Features"
   ]
  },
  {
   "cell_type": "code",
   "execution_count": 2,
   "metadata": {},
   "outputs": [],
   "source": [
    "n_feature = 2 # the number of features\n",
    "n_components = 2 # the number of clusters\n",
    "\n",
    "n = 1000 # the number of total samples"
   ]
  },
  {
   "cell_type": "code",
   "execution_count": 3,
   "metadata": {},
   "outputs": [
    {
     "data": {
      "text/plain": [
       "array([[  1.9738175 ,  -7.50934555],\n",
       "       [ -1.19505856,  -5.8378053 ],\n",
       "       [  0.37631303, -13.57342824],\n",
       "       ...,\n",
       "       [ -0.8821049 , -19.09837957],\n",
       "       [ -2.82660508, -13.01978618],\n",
       "       [ -0.92520746,  -7.54158259]])"
      ]
     },
     "execution_count": 3,
     "metadata": {},
     "output_type": "execute_result"
    }
   ],
   "source": [
    "# generate isotropic Gaussian blobs (data from mixture Gaussian distributions)\n",
    "X, y = make_blobs(n_samples=n, # the number of total samples\n",
    "                  centers=n_components, # the number of clusters\n",
    "                  n_features=n_feature, # the number of features\n",
    "                  cluster_std = [4] * n_components, # the std of each cluster\n",
    "                  random_state=2) # 2\n",
    "\n",
    "# X = np.hstack((np.ones((m, 1)), X))\n",
    "\n",
    "X"
   ]
  },
  {
   "cell_type": "code",
   "execution_count": 4,
   "metadata": {},
   "outputs": [
    {
     "name": "stdout",
     "output_type": "stream",
     "text": [
      "[1 0 0 1 1 0 1 0 1 1 0 0 0 0 1 1 1 0 0 1 1 0 0 0 1 1 1 0 0 1 1 0 0 1 1 0 0\n",
      " 1 1 1 0 0 1 1 0 0 1 0 0 0 0 1 0 0 0 0 1 0 1 0 1 1 1 1 0 0 1 0 0 0 1 1 1 1\n",
      " 1 1 0 0 1 0 0 0 0 0 0 1 1 0 0 0 0 0 1 1 0 0 1 0 0 1 0 1 1 0 1 1 1 0 0 0 1\n",
      " 0 1 1 0 1 1 0 0 0 0 1 1 0 0 0 1 1 1 0 1 1 1 1 0 0 1 0 0 1 0 1 0 1 0 0 1 1\n",
      " 1 1 0 0 1 1 0 0 0 1 0 1 1 0 0 0 1 0 0 1 1 1 1 1 1 0 1 1 1 1 1 0 1 1 1 1 1\n",
      " 0 1 1 1 1 1 0 1 1 1 0 0 0 0 0 1 1 1 1 0 1 0 1 0 1 1 1 1 0 1 1 1 1 1 1 1 1\n",
      " 1 0 1 1 0 1 1 1 0 0 0 0 0 0 1 1 0 1 1 1 1 0 1 0 0 0 0 1 1 0 0 0 1 0 0 1 1\n",
      " 0 0 1 0 0 0 0 0 0 0 0 1 0 1 0 0 1 1 0 0 0 0 1 0 0 0 1 1 1 0 1 0 1 0 1 0 0\n",
      " 0 1 0 0 1 0 0 1 0 1 1 1 1 1 0 0 0 0 0 0 1 0 0 0 1 1 0 0 0 1 0 0 1 1 1 0 1\n",
      " 1 0 0 0 0 1 1 0 0 1 1 0 1 1 1 0 1 0 0 0 0 0 0 1 1 0 0 1 1 0 0 0 1 1 0 0 0\n",
      " 1 0 1 1 0 1 0 1 1 1 1 1 0 1 0 1 1 1 0 0 1 0 1 1 0 1 1 0 1 1 1 1 1 0 0 0 0\n",
      " 1 1 1 0 0 1 0 1 1 1 0 0 0 1 1 0 1 1 0 1 1 0 0 0 1 1 0 1 0 1 1 0 0 0 0 1 0\n",
      " 0 0 0 1 0 1 1 0 1 1 1 1 1 0 0 1 1 0 1 0 0 1 1 0 0 0 0 1 0 0 1 1 0 0 0 0 0\n",
      " 1 0 0 1 1 0 0 0 1 1 0 0 0 1 0 0 0 1 0 1 0 0 1 0 0 1 1 1 0 0 0 0 0 1 1 1 0\n",
      " 1 1 0 0 1 1 1 0 1 1 1 1 1 1 0 1 0 1 1 1 0 0 1 1 1 1 1 0 1 0 1 1 1 1 1 1 1\n",
      " 0 1 0 0 0 0 1 1 1 1 1 1 0 0 1 1 1 0 0 0 0 1 0 1 0 0 1 0 0 1 1 1 0 1 1 1 1\n",
      " 0 1 1 1 0 1 0 0 0 1 0 1 1 1 1 1 0 0 1 0 1 1 0 0 0 1 1 0 0 1 1 0 0 1 0 0 0\n",
      " 0 1 1 0 1 0 1 0 1 0 1 1 1 1 0 1 0 0 1 1 1 0 1 0 1 1 0 1 1 0 0 1 0 1 1 1 0\n",
      " 1 1 1 0 0 1 1 1 1 0 0 1 0 1 1 1 0 0 0 0 0 1 1 0 0 1 0 0 0 0 0 0 0 1 1 0 0\n",
      " 0 0 0 1 1 1 1 0 1 0 0 0 0 0 1 1 0 1 0 1 1 1 0 0 0 0 0 1 1 0 0 0 0 0 0 1 0\n",
      " 0 1 0 1 0 0 1 0 1 0 0 0 0 1 1 0 0 1 0 1 0 0 0 1 1 0 0 0 0 1 0 1 0 0 1 0 0\n",
      " 1 1 1 0 1 1 0 1 1 1 1 1 0 0 0 1 0 0 1 1 1 0 0 1 1 0 0 0 1 1 1 0 1 1 0 1 1\n",
      " 1 1 0 1 1 0 0 1 1 0 0 1 1 1 1 0 1 0 0 1 1 0 0 0 1 1 0 1 1 0 1 0 1 0 1 1 0\n",
      " 0 0 0 1 1 0 0 1 0 0 0 1 0 1 1 1 1 1 1 0 0 0 1 0 0 0 1 1 1 0 0 0 1 1 1 1 1\n",
      " 0 0 1 0 1 1 1 0 0 1 1 0 0 1 1 0 0 1 1 0 1 0 1 1 1 0 0 0 0 0 1 1 1 0 1 0 1\n",
      " 1 0 0 0 1 1 1 1 0 1 0 0 0 0 0 0 1 1 0 0 1 1 1 0 1 0 1 1 1 0 1 1 0 0 0 1 0\n",
      " 1 1 0 1 1 0 0 0 0 1 0 1 1 0 0 0 0 0 0 0 1 0 0 1 0 0 0 1 1 0 1 1 0 0 1 0 0\n",
      " 1]\n",
      "[ 1 -1 -1  1  1 -1  1 -1  1  1 -1 -1 -1 -1  1  1  1 -1 -1  1  1 -1 -1 -1\n",
      "  1  1  1 -1 -1  1  1 -1 -1  1  1 -1 -1  1  1  1 -1 -1  1  1 -1 -1  1 -1\n",
      " -1 -1 -1  1 -1 -1 -1 -1  1 -1  1 -1  1  1  1  1 -1 -1  1 -1 -1 -1  1  1\n",
      "  1  1  1  1 -1 -1  1 -1 -1 -1 -1 -1 -1  1  1 -1 -1 -1 -1 -1  1  1 -1 -1\n",
      "  1 -1 -1  1 -1  1  1 -1  1  1  1 -1 -1 -1  1 -1  1  1 -1  1  1 -1 -1 -1\n",
      " -1  1  1 -1 -1 -1  1  1  1 -1  1  1  1  1 -1 -1  1 -1 -1  1 -1  1 -1  1\n",
      " -1 -1  1  1  1  1 -1 -1  1  1 -1 -1 -1  1 -1  1  1 -1 -1 -1  1 -1 -1  1\n",
      "  1  1  1  1  1 -1  1  1  1  1  1 -1  1  1  1  1  1 -1  1  1  1  1  1 -1\n",
      "  1  1  1 -1 -1 -1 -1 -1  1  1  1  1 -1  1 -1  1 -1  1  1  1  1 -1  1  1\n",
      "  1  1  1  1  1  1  1 -1  1  1 -1  1  1  1 -1 -1 -1 -1 -1 -1  1  1 -1  1\n",
      "  1  1  1 -1  1 -1 -1 -1 -1  1  1 -1 -1 -1  1 -1 -1  1  1 -1 -1  1 -1 -1\n",
      " -1 -1 -1 -1 -1 -1  1 -1  1 -1 -1  1  1 -1 -1 -1 -1  1 -1 -1 -1  1  1  1\n",
      " -1  1 -1  1 -1  1 -1 -1 -1  1 -1 -1  1 -1 -1  1 -1  1  1  1  1  1 -1 -1\n",
      " -1 -1 -1 -1  1 -1 -1 -1  1  1 -1 -1 -1  1 -1 -1  1  1  1 -1  1  1 -1 -1\n",
      " -1 -1  1  1 -1 -1  1  1 -1  1  1  1 -1  1 -1 -1 -1 -1 -1 -1  1  1 -1 -1\n",
      "  1  1 -1 -1 -1  1  1 -1 -1 -1  1 -1  1  1 -1  1 -1  1  1  1  1  1 -1  1\n",
      " -1  1  1  1 -1 -1  1 -1  1  1 -1  1  1 -1  1  1  1  1  1 -1 -1 -1 -1  1\n",
      "  1  1 -1 -1  1 -1  1  1  1 -1 -1 -1  1  1 -1  1  1 -1  1  1 -1 -1 -1  1\n",
      "  1 -1  1 -1  1  1 -1 -1 -1 -1  1 -1 -1 -1 -1  1 -1  1  1 -1  1  1  1  1\n",
      "  1 -1 -1  1  1 -1  1 -1 -1  1  1 -1 -1 -1 -1  1 -1 -1  1  1 -1 -1 -1 -1\n",
      " -1  1 -1 -1  1  1 -1 -1 -1  1  1 -1 -1 -1  1 -1 -1 -1  1 -1  1 -1 -1  1\n",
      " -1 -1  1  1  1 -1 -1 -1 -1 -1  1  1  1 -1  1  1 -1 -1  1  1  1 -1  1  1\n",
      "  1  1  1  1 -1  1 -1  1  1  1 -1 -1  1  1  1  1  1 -1  1 -1  1  1  1  1\n",
      "  1  1  1 -1  1 -1 -1 -1 -1  1  1  1  1  1  1 -1 -1  1  1  1 -1 -1 -1 -1\n",
      "  1 -1  1 -1 -1  1 -1 -1  1  1  1 -1  1  1  1  1 -1  1  1  1 -1  1 -1 -1\n",
      " -1  1 -1  1  1  1  1  1 -1 -1  1 -1  1  1 -1 -1 -1  1  1 -1 -1  1  1 -1\n",
      " -1  1 -1 -1 -1 -1  1  1 -1  1 -1  1 -1  1 -1  1  1  1  1 -1  1 -1 -1  1\n",
      "  1  1 -1  1 -1  1  1 -1  1  1 -1 -1  1 -1  1  1  1 -1  1  1  1 -1 -1  1\n",
      "  1  1  1 -1 -1  1 -1  1  1  1 -1 -1 -1 -1 -1  1  1 -1 -1  1 -1 -1 -1 -1\n",
      " -1 -1 -1  1  1 -1 -1 -1 -1 -1  1  1  1  1 -1  1 -1 -1 -1 -1 -1  1  1 -1\n",
      "  1 -1  1  1  1 -1 -1 -1 -1 -1  1  1 -1 -1 -1 -1 -1 -1  1 -1 -1  1 -1  1\n",
      " -1 -1  1 -1  1 -1 -1 -1 -1  1  1 -1 -1  1 -1  1 -1 -1 -1  1  1 -1 -1 -1\n",
      " -1  1 -1  1 -1 -1  1 -1 -1  1  1  1 -1  1  1 -1  1  1  1  1  1 -1 -1 -1\n",
      "  1 -1 -1  1  1  1 -1 -1  1  1 -1 -1 -1  1  1  1 -1  1  1 -1  1  1  1  1\n",
      " -1  1  1 -1 -1  1  1 -1 -1  1  1  1  1 -1  1 -1 -1  1  1 -1 -1 -1  1  1\n",
      " -1  1  1 -1  1 -1  1 -1  1  1 -1 -1 -1 -1  1  1 -1 -1  1 -1 -1 -1  1 -1\n",
      "  1  1  1  1  1  1 -1 -1 -1  1 -1 -1 -1  1  1  1 -1 -1 -1  1  1  1  1  1\n",
      " -1 -1  1 -1  1  1  1 -1 -1  1  1 -1 -1  1  1 -1 -1  1  1 -1  1 -1  1  1\n",
      "  1 -1 -1 -1 -1 -1  1  1  1 -1  1 -1  1  1 -1 -1 -1  1  1  1  1 -1  1 -1\n",
      " -1 -1 -1 -1 -1  1  1 -1 -1  1  1  1 -1  1 -1  1  1  1 -1  1  1 -1 -1 -1\n",
      "  1 -1  1  1 -1  1  1 -1 -1 -1 -1  1 -1  1  1 -1 -1 -1 -1 -1 -1 -1  1 -1\n",
      " -1  1 -1 -1 -1  1  1 -1  1  1 -1 -1  1 -1 -1  1]\n"
     ]
    }
   ],
   "source": [
    "print(y)\n",
    "\n",
    "y = np.where(y ==0, -1, 1)\n",
    "\n",
    "print(y)"
   ]
  },
  {
   "cell_type": "code",
   "execution_count": 5,
   "metadata": {},
   "outputs": [
    {
     "name": "stdout",
     "output_type": "stream",
     "text": [
      "x = [ 1.9738175  -7.50934555] , y = 1\n",
      "x = [-1.19505856 -5.8378053 ] , y = -1\n",
      "x = [  0.37631303 -13.57342824] , y = -1\n",
      "x = [-0.58648176 -0.37741265] , y = 1\n",
      "x = [ 5.5126432  -1.76458642] , y = 1\n"
     ]
    }
   ],
   "source": [
    "for i in range(5):\n",
    "    print('x =', X[i, ], ', y =', y[i])"
   ]
  },
  {
   "cell_type": "code",
   "execution_count": 6,
   "metadata": {},
   "outputs": [
    {
     "data": {
      "text/plain": [
       "array([ 1, -1, -1,  1,  1, -1,  1, -1,  1,  1])"
      ]
     },
     "execution_count": 6,
     "metadata": {},
     "output_type": "execute_result"
    }
   ],
   "source": [
    "# Just to show you what is inside it. We print the first 10 elements of this numpy array. \n",
    "y[:10]"
   ]
  },
  {
   "cell_type": "code",
   "execution_count": 7,
   "metadata": {},
   "outputs": [
    {
     "data": {
      "image/png": "[encoded data removed]",
      "text/plain": [
       "<Figure size 432x288 with 1 Axes>"
      ]
     },
     "metadata": {
      "needs_background": "light"
     },
     "output_type": "display_data"
    }
   ],
   "source": [
    "# scatter plot, data points annotated by different colors\n",
    "df = pd.DataFrame(dict(feature_1=X[:,0], feature_2=X[:,1], label=y))\n",
    "\n",
    "\n",
    "cluster_name = set(y)\n",
    "colors = dict(zip(cluster_name, cm.rainbow(np.linspace(0, 1, len(cluster_name)))))\n",
    "fig, ax = pyplot.subplots()\n",
    "\n",
    "grouped = df.groupby('label')\n",
    "\n",
    "for key, group in grouped:\n",
    "    group.plot(ax=ax, kind='scatter', x='feature_1', y='feature_2', label=key, color=colors[key].reshape(1,-1))\n",
    "    \n",
    "pyplot.title('Original 2D Data from {} Clusters'.format(n_components))\n",
    "pyplot.show()"
   ]
  },
  {
   "cell_type": "code",
   "execution_count": 8,
   "metadata": {},
   "outputs": [],
   "source": [
    "\n",
    "# Create Test/Train\n",
    "from sklearn.model_selection import train_test_split\n",
    "\n",
    "X_train, X_test, y_train, y_test = train_test_split(X, y, test_size=0.2, random_state=123)"
   ]
  },
  {
   "cell_type": "markdown",
   "metadata": {},
   "source": [
    "## Support Vector Machine Using Scikit-learn \n",
    "\n",
    "\n",
    "## SVC\n",
    "\n",
    "\n",
    "# Read for more details the following important documentations\n",
    "\n",
    "\n",
    "https://scikit-learn.org/stable/modules/svm.html#svm-classification\n",
    "\n",
    "\n",
    "\n",
    "https://scikit-learn.org/stable/modules/generated/sklearn.svm.SVC.html#sklearn.svm.SVC"
   ]
  },
  {
   "cell_type": "code",
   "execution_count": 9,
   "metadata": {},
   "outputs": [
    {
     "name": "stdout",
     "output_type": "stream",
     "text": [
      "Accuracy Score: 0.875\n"
     ]
    }
   ],
   "source": [
    "\n",
    "from sklearn import svm\n",
    "from sklearn.metrics import accuracy_score\n",
    "\n",
    "\n",
    "model = svm.SVC()\n",
    "model.fit(X_train, y_train)\n",
    "\n",
    "\n",
    "\n",
    "y_pred = model.predict(X_test)\n",
    "\n",
    "print(\"Accuracy Score:\", accuracy_score(y_test, y_pred))"
   ]
  },
  {
   "cell_type": "code",
   "execution_count": 10,
   "metadata": {},
   "outputs": [
    {
     "name": "stdout",
     "output_type": "stream",
     "text": [
      "              precision    recall  f1-score   support\n",
      "\n",
      "          -1       0.87      0.89      0.88       104\n",
      "           1       0.88      0.85      0.87        96\n",
      "\n",
      "    accuracy                           0.88       200\n",
      "   macro avg       0.88      0.87      0.87       200\n",
      "weighted avg       0.88      0.88      0.87       200\n",
      "\n"
     ]
    }
   ],
   "source": [
    "from sklearn.metrics import classification_report\n",
    "print(classification_report(y_test,y_pred))\n"
   ]
  },
  {
   "cell_type": "markdown",
   "metadata": {},
   "source": [
    "## Linear SVC \n",
    "\n",
    "## sklearn.svm.LinearSVC\n",
    "\n",
    "https://scikit-learn.org/stable/modules/generated/sklearn.svm.LinearSVC.html\n"
   ]
  },
  {
   "cell_type": "code",
   "execution_count": 56,
   "metadata": {},
   "outputs": [
    {
     "name": "stdout",
     "output_type": "stream",
     "text": [
      "['C', '__class__', '__delattr__', '__dict__', '__dir__', '__doc__', '__eq__', '__format__', '__ge__', '__getattribute__', '__getstate__', '__gt__', '__hash__', '__init__', '__init_subclass__', '__le__', '__lt__', '__module__', '__ne__', '__new__', '__reduce__', '__reduce_ex__', '__repr__', '__setattr__', '__setstate__', '__sizeof__', '__str__', '__subclasshook__', '__weakref__', '_check_n_features', '_estimator_type', '_get_param_names', '_get_tags', '_more_tags', '_predict_proba_lr', '_repr_html_', '_repr_html_inner', '_repr_mimebundle_', '_validate_data', 'class_weight', 'classes_', 'coef_', 'decision_function', 'densify', 'dual', 'fit', 'fit_intercept', 'get_params', 'intercept_', 'intercept_scaling', 'loss', 'max_iter', 'multi_class', 'n_features_in_', 'n_iter_', 'penalty', 'predict', 'random_state', 'score', 'set_params', 'sparsify', 'tol', 'verbose']\n",
      "[[0.05907893 0.06076751]]\n",
      "False\n",
      "Accuracy Score: 0.73\n"
     ]
    }
   ],
   "source": [
    "model = svm.LinearSVC(C=.01, max_iter=100, fit_intercept=False)\n",
    "model.fit(X_train, y_train)\n",
    "\n",
    "print(dir(model))\n",
    "\n",
    "print(model.coef_)\n",
    "print(model.fit_intercept)\n",
    "\n",
    "y_pred = model.predict(X_test)\n",
    "\n",
    "print(\"Accuracy Score:\", accuracy_score(y_test, y_pred))\n"
   ]
  },
  {
   "cell_type": "markdown",
   "metadata": {},
   "source": [
    "# SVM in Python without libraries (no Scikit-learn) "
   ]
  },
  {
   "cell_type": "markdown",
   "metadata": {},
   "source": [
    "# Cost Function \n",
    "\n",
    "Hinge Loss function\n",
    "\n",
    "\n",
    "$$ \n",
    "cost = \\frac{ \\lambda }{ 2 } ||w||^2 + \\frac{1}{N} \\sum_i^n max(0, 1 - y_i (w \\cdot x_i + b )) \\\\\n",
    "\\text{     Regularization parameter     }  \\lambda = \\frac{1}{c} \n",
    "$$"
   ]
  },
  {
   "cell_type": "code",
   "execution_count": 57,
   "metadata": {},
   "outputs": [],
   "source": [
    "def compute_cost(X, y, W, regularization_factor):\n",
    "    '''This function calculate the hinge loss. Primal Problem in SVM'''\n",
    "    n = X.shape[0]\n",
    "    distances = 1 - y * (np.dot(X, W))\n",
    "    \n",
    "    # This is our max(0, distance). \n",
    "    distances[distances < 0] = 0 \n",
    "    \n",
    "    hinge_loss = regularization_factor * (np.sum(distances) / n)\n",
    "    # This divide by 2 is not important. You can skip doing it \n",
    "    # because we want only to check if this cost is going down or not. \n",
    "    return (1 / 2 * np.dot(W, W) + hinge_loss)"
   ]
  },
  {
   "cell_type": "markdown",
   "metadata": {},
   "source": [
    "# Gradient \n",
    "$$gradient(w)=\\frac{1}{N}\\sum_i^n\n",
    "\\begin{cases}\n",
    "w &  \\text{ if } max(0, y_i (w \\cdot x_i)) = 0 \\\\\n",
    "w - c y_i x_i &  \\text{otherwise}\n",
    "\\end{cases}\n",
    "$$\n"
   ]
  },
  {
   "cell_type": "code",
   "execution_count": 58,
   "metadata": {},
   "outputs": [],
   "source": [
    "def calculate_gradient(X, y, W, regularization_factor):\n",
    "      \n",
    "    if type(y) == np.float64:\n",
    "        y = np.array([y])\n",
    "        X = np.array([X])\n",
    "        \n",
    "    distance = 1 - (y * np.dot(X, W))\n",
    "    \n",
    "    dw = np.zeros(len(W))\n",
    "    \n",
    "    for ind, d in enumerate(distance):\n",
    "        \n",
    "        if (d < 0):\n",
    "            di = W\n",
    "        else:\n",
    "            di = W - (regularization_factor * y[ind] * X[ind])\n",
    "            \n",
    "            \n",
    "        dw += di\n",
    "    \n",
    "    dw = dw/len(y)  # average\n",
    "    \n",
    "    return dw"
   ]
  },
  {
   "cell_type": "code",
   "execution_count": 66,
   "metadata": {},
   "outputs": [
    {
     "name": "stdout",
     "output_type": "stream",
     "text": [
      "Epoch 0 Cost is: 0.01 weights [0. 0.]\n",
      "Epoch 1 Cost is: 0.009981766434693546 weights [0.00013039 0.00040774]\n",
      "Epoch 2 Cost is: 0.009963895717336696 weights [0.00025949 0.0008114 ]\n",
      "Epoch 3 Cost is: 0.009946380627255244 weights [0.00038729 0.00121102]\n",
      "Epoch 4 Cost is: 0.009929214087466411 weights [0.00051381 0.00160664]\n",
      "Epoch 5 Cost is: 0.009912389161819378 weights [0.00063907 0.00199831]\n",
      "Epoch 6 Cost is: 0.00989589905219272 weights [0.00076307 0.00238607]\n",
      "Epoch 7 Cost is: 0.009879737095747633 weights [0.00088583 0.00276994]\n",
      "Epoch 8 Cost is: 0.009863896762235804 weights [0.00100737 0.00314998]\n",
      "Epoch 9 Cost is: 0.009848371651360861 weights [0.00112769 0.00352622]\n",
      "Epoch 10 Cost is: 0.009833155490192327 weights [0.00124681 0.00389869]\n",
      "Epoch 11 Cost is: 0.009818242130631049 weights [0.00136474 0.00426744]\n",
      "Epoch 12 Cost is: 0.00980362554692504 weights [0.00148148 0.0046325 ]\n",
      "Epoch 13 Cost is: 0.009789299833234778 weights [0.00159706 0.00499391]\n",
      "Epoch 14 Cost is: 0.009775259201246955 weights [0.00171149 0.00535171]\n",
      "Epoch 15 Cost is: 0.00976149797783569 weights [0.00182477 0.00570593]\n",
      "Epoch 16 Cost is: 0.009748010602770306 weights [0.00193692 0.00605661]\n",
      "Epoch 17 Cost is: 0.009734791626468725 weights [0.00204794 0.00640378]\n",
      "Epoch 18 Cost is: 0.009721835707795546 weights [0.00215786 0.00674748]\n",
      "Epoch 19 Cost is: 0.009709137611903961 weights [0.00226667 0.00708774]\n",
      "Epoch 20 Cost is: 0.009696692208120623 weights [0.0023744 0.0074246]\n",
      "Epoch 21 Cost is: 0.009684494467872569 weights [0.00248105 0.00775809]\n",
      "Epoch 22 Cost is: 0.009672539462655455 weights [0.00258664 0.00808824]\n",
      "Epoch 23 Cost is: 0.00966082236204216 weights [0.00269117 0.0084151 ]\n",
      "Epoch 24 Cost is: 0.009649338431731068 weights [0.00279465 0.00873868]\n",
      "Epoch 25 Cost is: 0.009638083031633169 weights [0.0028971  0.00905903]\n",
      "Epoch 26 Cost is: 0.009627051613997217 weights [0.00299852 0.00937618]\n",
      "Epoch 27 Cost is: 0.009616239721572222 weights [0.00309893 0.00969016]\n",
      "Epoch 28 Cost is: 0.009605642985806481 weights [0.00319834 0.01000099]\n",
      "Epoch 29 Cost is: 0.009595257125082482 weights [0.00329675 0.01030872]\n",
      "Epoch 30 Cost is: 0.009585077942986887 weights [0.00339418 0.01061337]\n",
      "Epoch 31 Cost is: 0.009575101326614996 weights [0.00349063 0.01091497]\n",
      "Epoch 32 Cost is: 0.009565323244908904 weights [0.00358612 0.01121356]\n",
      "Epoch 33 Cost is: 0.009555739747028768 weights [0.00368065 0.01150916]\n",
      "Epoch 34 Cost is: 0.009546346960756442 weights [0.00377424 0.0118018 ]\n",
      "Epoch 35 Cost is: 0.009537141090930939 weights [0.00386689 0.01209152]\n",
      "Epoch 36 Cost is: 0.00952811841791496 weights [0.00395862 0.01237834]\n",
      "Epoch 37 Cost is: 0.009519275296092 weights [0.00404943 0.01266229]\n",
      "Epoch 38 Cost is: 0.009510608152393319 weights [0.00413933 0.01294341]\n",
      "Epoch 39 Cost is: 0.009502113484854238 weights [0.00422833 0.01322171]\n",
      "Epoch 40 Cost is: 0.009493787861199188 weights [0.00431644 0.01349723]\n",
      "Epoch 41 Cost is: 0.009485627917454872 weights [0.00440367 0.01376999]\n",
      "Epoch 42 Cost is: 0.009477630356591068 weights [0.00449003 0.01404003]\n",
      "Epoch 43 Cost is: 0.009469791947188454 weights [0.00457553 0.01430737]\n",
      "Epoch 44 Cost is: 0.009462109522132953 weights [0.00466017 0.01457203]\n",
      "Epoch 45 Cost is: 0.009454579977336055 weights [0.00474396 0.01483405]\n",
      "Epoch 46 Cost is: 0.009447200270480615 weights [0.00482691 0.01509344]\n",
      "Epoch 47 Cost is: 0.0094399674197916 weights [0.00490904 0.01535024]\n",
      "Epoch 48 Cost is: 0.009432878502831294 weights [0.00499035 0.01560448]\n",
      "Epoch 49 Cost is: 0.0094259306553185 weights [0.00507084 0.01585617]\n",
      "Epoch 50 Cost is: 0.009419121069971212 weights [0.00515052 0.01610534]\n",
      "Epoch 51 Cost is: 0.009412446995372333 weights [0.00522941 0.01635203]\n",
      "Epoch 52 Cost is: 0.009405905734857972 weights [0.00530751 0.01659624]\n",
      "Epoch 53 Cost is: 0.009399494645427846 weights [0.00538483 0.01683802]\n",
      "Epoch 54 Cost is: 0.00939321113667738 weights [0.00546138 0.01707737]\n",
      "Epoch 55 Cost is: 0.009387052669751048 weights [0.00553716 0.01731434]\n",
      "Epoch 56 Cost is: 0.009381016756316552 weights [0.00561219 0.01754893]\n",
      "Epoch 57 Cost is: 0.009375100957559399 weights [0.00568646 0.01778118]\n",
      "Epoch 58 Cost is: 0.009369302883197515 weights [0.00575999 0.0180111 ]\n",
      "Epoch 59 Cost is: 0.009363620190515435 weights [0.00583278 0.01823873]\n",
      "Epoch 60 Cost is: 0.009358050583417724 weights [0.00590485 0.01846408]\n",
      "Epoch 61 Cost is: 0.00935259181150126 weights [0.0059762  0.01868717]\n",
      "Epoch 62 Cost is: 0.009347241669145932 weights [0.00604683 0.01890804]\n",
      "Epoch 63 Cost is: 0.009341997994623479 weights [0.00611676 0.01912669]\n",
      "Epoch 64 Cost is: 0.009336858669224018 weights [0.00618598 0.01934316]\n",
      "Epoch 65 Cost is: 0.00933182161640001 weights [0.00625452 0.01955747]\n",
      "Epoch 66 Cost is: 0.009326884800927197 weights [0.00632237 0.01976963]\n",
      "Epoch 67 Cost is: 0.009322046228082293 weights [0.00638954 0.01997967]\n",
      "Epoch 68 Cost is: 0.009317303942837005 weights [0.00645604 0.02018761]\n",
      "Epoch 69 Cost is: 0.009312656029068096 weights [0.00652188 0.02039347]\n",
      "Epoch 70 Cost is: 0.009308100608783187 weights [0.00658705 0.02059727]\n",
      "Epoch 71 Cost is: 0.009303635841361952 weights [0.00665158 0.02079904]\n",
      "Epoch 72 Cost is: 0.009299259922812398 weights [0.00671546 0.02099878]\n",
      "Epoch 73 Cost is: 0.00929497108504198 weights [0.0067787  0.02119653]\n",
      "Epoch 74 Cost is: 0.00929076759514319 weights [0.0068413 0.0213923]\n",
      "Epoch 75 Cost is: 0.00928664775469339 weights [0.00690329 0.02158612]\n",
      "Epoch 76 Cost is: 0.00928260989906854 weights [0.00696465 0.02177799]\n",
      "Epoch 77 Cost is: 0.009278652396770625 weights [0.0070254  0.02196795]\n",
      "Epoch 78 Cost is: 0.009274773648768437 weights [0.00708554 0.022156  ]\n",
      "Epoch 79 Cost is: 0.009270972087851496 weights [0.00714508 0.02234218]\n",
      "Epoch 80 Cost is: 0.009267246177996794 weights [0.00720402 0.0225265 ]\n",
      "Epoch 81 Cost is: 0.00926359441374821 weights [0.00726238 0.02270897]\n",
      "Epoch 82 Cost is: 0.009260015319608166 weights [0.00732015 0.02288961]\n",
      "Epoch 83 Cost is: 0.009256507449441512 weights [0.00737734 0.02306845]\n",
      "Epoch 84 Cost is: 0.009253069385891176 weights [0.00743396 0.02324551]\n",
      "Epoch 85 Cost is: 0.00924969973980549 weights [0.00749002 0.02342079]\n",
      "Epoch 86 Cost is: 0.009246397149676906 weights [0.00754551 0.02359432]\n",
      "Epoch 87 Cost is: 0.009243160281091888 weights [0.00760045 0.02376611]\n",
      "Epoch 88 Cost is: 0.009239987826191705 weights [0.00765484 0.02393618]\n",
      "Epoch 89 Cost is: 0.009236878503144037 weights [0.00770869 0.02410456]\n",
      "Epoch 90 Cost is: 0.009233831055625022 weights [0.007762   0.02427125]\n",
      "Epoch 91 Cost is: 0.00923084425231163 weights [0.00781477 0.02443627]\n",
      "Epoch 92 Cost is: 0.009227916886384177 weights [0.00786702 0.02459965]\n",
      "Epoch 93 Cost is: 0.009225047775038681 weights [0.00791874 0.02476139]\n",
      "Epoch 94 Cost is: 0.00922223575900896 weights [0.00796995 0.02492151]\n",
      "Epoch 95 Cost is: 0.00921947970209823 weights [0.00802065 0.02508003]\n",
      "Epoch 96 Cost is: 0.009216778490720022 weights [0.00807084 0.02523697]\n",
      "Epoch 97 Cost is: 0.009214131033448243 weights [0.00812052 0.02539234]\n",
      "Epoch 98 Cost is: 0.009211536260576173 weights [0.00816971 0.02554615]\n",
      "Epoch 99 Cost is: 0.009208993123684252 weights [0.00821841 0.02569842]\n",
      "Epoch 100 Cost is: 0.009206500595216485 weights [0.00826662 0.02584918]\n",
      "Epoch 101 Cost is: 0.009204057668065225 weights [0.00831435 0.02599842]\n",
      "Epoch 102 Cost is: 0.009201663355164277 weights [0.0083616  0.02614617]\n",
      "Epoch 103 Cost is: 0.009199316689090055 weights [0.00840838 0.02629245]\n",
      "Epoch 104 Cost is: 0.009197016721670712 weights [0.00845469 0.02643726]\n",
      "Epoch 105 Cost is: 0.00919476252360301 weights [0.00850054 0.02658062]\n",
      "Epoch 106 Cost is: 0.009192553184076859 weights [0.00854593 0.02672255]\n",
      "Epoch 107 Cost is: 0.009190387810407277 weights [0.00859087 0.02686306]\n",
      "Epoch 108 Cost is: 0.009188265527673722 weights [0.00863535 0.02700217]\n",
      "Epoch 109 Cost is: 0.009186185478366563 weights [0.00867939 0.02713989]\n",
      "Epoch 110 Cost is: 0.009184146822040617 weights [0.00872299 0.02727622]\n",
      "Epoch 111 Cost is: 0.009182148734975557 weights [0.00876616 0.0274112 ]\n",
      "Epoch 112 Cost is: 0.009180190409843091 weights [0.00880889 0.02754482]\n",
      "Epoch 113 Cost is: 0.009178271055380762 weights [0.0088512  0.02767711]\n",
      "Epoch 114 Cost is: 0.009176389896072232 weights [0.00889308 0.02780808]\n",
      "Epoch 115 Cost is: 0.009174546171833945 weights [0.00893455 0.02793773]\n",
      "Epoch 116 Cost is: 0.009172739137707997 weights [0.0089756  0.02806609]\n"
     ]
    },
    {
     "name": "stdout",
     "output_type": "stream",
     "text": [
      "Epoch 117 Cost is: 0.009170968063561156 weights [0.00901623 0.02819317]\n",
      "Epoch 118 Cost is: 0.009169232233789838 weights [0.00905647 0.02831897]\n",
      "Epoch 119 Cost is: 0.009167530947030968 weights [0.0090963  0.02844352]\n",
      "Epoch 120 Cost is: 0.009165863515878602 weights [0.00913573 0.02856682]\n",
      "Epoch 121 Cost is: 0.009164229266606164 weights [0.00917477 0.02868889]\n",
      "Epoch 122 Cost is: 0.00916262753889425 weights [0.00921341 0.02880973]\n",
      "Epoch 123 Cost is: 0.0091610576855638 weights [0.00925168 0.02892937]\n",
      "Epoch 124 Cost is: 0.009159519072314631 weights [0.00928955 0.02904782]\n",
      "Epoch 125 Cost is: 0.009158011077469117 weights [0.00932705 0.02916508]\n",
      "Epoch 126 Cost is: 0.00915653309172103 weights [0.00936418 0.02928116]\n",
      "Epoch 127 Cost is: 0.009155084517889331 weights [0.00940093 0.02939609]\n",
      "Epoch 128 Cost is: 0.009153664770676879 weights [0.00943732 0.02950986]\n",
      "Epoch 129 Cost is: 0.00915227327643396 weights [0.00947334 0.0296225 ]\n",
      "Epoch 130 Cost is: 0.009150909472926473 weights [0.009509   0.02973401]\n",
      "Epoch 131 Cost is: 0.009149572809108783 weights [0.0095443  0.02984441]\n",
      "Epoch 132 Cost is: 0.009148262744901067 weights [0.00957926 0.0299537 ]\n",
      "Epoch 133 Cost is: 0.00914697875097108 weights [0.00961386 0.0300619 ]\n",
      "Epoch 134 Cost is: 0.009145720308520306 weights [0.00964812 0.03016902]\n",
      "Epoch 135 Cost is: 0.009144486909074302 weights [0.00968203 0.03027506]\n",
      "Epoch 136 Cost is: 0.009143278054277271 weights [0.0097156  0.03038005]\n",
      "Epoch 137 Cost is: 0.009142093255690702 weights [0.00974884 0.03048398]\n",
      "Epoch 138 Cost is: 0.009140932034596004 weights [0.00978175 0.03058688]\n",
      "Epoch 139 Cost is: 0.00913979392180109 weights [0.00981433 0.03068875]\n",
      "Epoch 140 Cost is: 0.009138678457450799 weights [0.00984658 0.0307896 ]\n",
      "Epoch 141 Cost is: 0.009137585190841076 weights [0.00987851 0.03088944]\n",
      "Epoch 142 Cost is: 0.009136513680236887 weights [0.00991012 0.03098828]\n",
      "Epoch 143 Cost is: 0.009135463492693719 weights [0.00994141 0.03108613]\n",
      "Epoch 144 Cost is: 0.009134434203882663 weights [0.00997239 0.03118301]\n",
      "Epoch 145 Cost is: 0.009133425397918947 weights [0.01000306 0.03127892]\n",
      "Epoch 146 Cost is: 0.009132436667193908 weights [0.01003343 0.03137386]\n",
      "Epoch 147 Cost is: 0.009131467612210299 weights [0.01006349 0.03146786]\n",
      "Epoch 148 Cost is: 0.009130517841420861 weights [0.01009325 0.03156092]\n",
      "Epoch 149 Cost is: 0.009129586971070133 weights [0.01012271 0.03165305]\n",
      "Epoch 150 Cost is: 0.009128674625039388 weights [0.01015188 0.03174425]\n",
      "Epoch 151 Cost is: 0.00912778043469465 weights [0.01018076 0.03183455]\n",
      "Epoch 152 Cost is: 0.009126904038737775 weights [0.01020934 0.03192394]\n",
      "Epoch 153 Cost is: 0.009126045083060442 weights [0.01023764 0.03201243]\n",
      "Epoch 154 Cost is: 0.009125203220601086 weights [0.01026566 0.03210005]\n",
      "Epoch 155 Cost is: 0.009124378111204675 weights [0.0102934  0.03218678]\n",
      "Epoch 156 Cost is: 0.00912356942148525 weights [0.01032086 0.03227265]\n",
      "Epoch 157 Cost is: 0.009122776824691241 weights [0.01034805 0.03235766]\n",
      "Epoch 158 Cost is: 0.009122000000573434 weights [0.01037496 0.03244182]\n",
      "Epoch 159 Cost is: 0.00912123863525557 weights [0.01040161 0.03252514]\n",
      "Epoch 160 Cost is: 0.009120492421107533 weights [0.01042799 0.03260762]\n",
      "Epoch 161 Cost is: 0.009119761056621042 weights [0.0104541  0.03268929]\n",
      "Epoch 162 Cost is: 0.00911904424628783 weights [0.01047996 0.03277013]\n",
      "Epoch 163 Cost is: 0.009118341700480252 weights [0.01050555 0.03285016]\n",
      "Epoch 164 Cost is: 0.009117653135334244 weights [0.01053089 0.0329294 ]\n",
      "Epoch 165 Cost is: 0.009116978272634638 weights [0.01055598 0.03300784]\n",
      "Epoch 166 Cost is: 0.009116316839702758 weights [0.01058081 0.0330855 ]\n",
      "Epoch 167 Cost is: 0.009115668569286223 weights [0.0106054  0.03316238]\n",
      "Epoch 168 Cost is: 0.009115033199450973 weights [0.01062974 0.03323849]\n",
      "Epoch 169 Cost is: 0.00911441047347545 weights [0.01065384 0.03331385]\n",
      "Epoch 170 Cost is: 0.009113800139746834 weights [0.0106777  0.03338844]\n",
      "Epoch 171 Cost is: 0.009113201951659421 weights [0.01070131 0.0334623 ]\n",
      "Epoch 172 Cost is: 0.009112615667514945 weights [0.01072469 0.03353541]\n",
      "Epoch 173 Cost is: 0.009112041050424947 weights [0.01074784 0.03360779]\n",
      "Epoch 174 Cost is: 0.00911147786821504 weights [0.01077076 0.03367945]\n",
      "Epoch 175 Cost is: 0.00911092589333111 weights [0.01079345 0.03375039]\n",
      "Epoch 176 Cost is: 0.009110384902747366 weights [0.01081591 0.03382062]\n",
      "Epoch 177 Cost is: 0.009109854677876244 weights [0.01083814 0.03389015]\n",
      "Epoch 178 Cost is: 0.009109335004480053 weights [0.01086016 0.03395899]\n",
      "Epoch 179 Cost is: 0.00910882567258445 weights [0.01088195 0.03402714]\n",
      "Epoch 180 Cost is: 0.009108326476393567 weights [0.01090353 0.0340946 ]\n",
      "Epoch 181 Cost is: 0.009107837214206882 weights [0.01092489 0.03416139]\n",
      "Epoch 182 Cost is: 0.009107357688337717 weights [0.01094603 0.03422751]\n",
      "Epoch 183 Cost is: 0.009106887705033342 weights [0.01096697 0.03429298]\n",
      "Epoch 184 Cost is: 0.009106427074396727 weights [0.01098769 0.03435778]\n",
      "Epoch 185 Cost is: 0.00910597561030978 weights [0.01100821 0.03442194]\n",
      "Epoch 186 Cost is: 0.009105533130358164 weights [0.01102852 0.03448546]\n",
      "Epoch 187 Cost is: 0.009105099455757586 weights [0.01104863 0.03454834]\n",
      "Epoch 188 Cost is: 0.009104674411281558 weights [0.01106854 0.03461059]\n",
      "Epoch 189 Cost is: 0.009104257825190603 weights [0.01108825 0.03467222]\n",
      "Epoch 190 Cost is: 0.009103849529162857 weights [0.01110776 0.03473324]\n",
      "Epoch 191 Cost is: 0.009103449358226063 weights [0.01112708 0.03479364]\n",
      "Epoch 192 Cost is: 0.009103057150690914 weights [0.0111462  0.03485344]\n",
      "Epoch 193 Cost is: 0.009102672748085714 weights [0.01116514 0.03491264]\n",
      "Epoch 194 Cost is: 0.009102295995092354 weights [0.01118388 0.03497125]\n",
      "Epoch 195 Cost is: 0.009101926739483568 weights [0.01120244 0.03502928]\n",
      "Epoch 196 Cost is: 0.00910156483206139 weights [0.01122081 0.03508672]\n",
      "Epoch 197 Cost is: 0.009101210126596917 weights [0.011239   0.03514359]\n",
      "Epoch 198 Cost is: 0.009100862479771188 weights [0.011257   0.03519989]\n",
      "Epoch 199 Cost is: 0.009100521751117288 weights [0.01127483 0.03525563]\n"
     ]
    }
   ],
   "source": [
    "weights = np.zeros(2)\n",
    "\n",
    "\n",
    "# Now we optimize it using Gradient Descent. \n",
    "num_iterations = 200\n",
    "learnin_rate = 0.01\n",
    "\n",
    "regularization = 0.01\n",
    "\n",
    "cost_list = []\n",
    "\n",
    "for i in range(0, num_iterations):\n",
    "    \n",
    "    cost = compute_cost(X_train, y_train, weights, regularization)\n",
    "    \n",
    "    print(\"Epoch\", i, \"Cost is:\", cost, \"weights\", weights)\n",
    "    \n",
    "    cost_list.append(cost)\n",
    "    \n",
    "    grad = calculate_gradient(X_train, y_train, weights, regularization)\n",
    "    \n",
    "    weights = weights - learnin_rate * grad"
   ]
  },
  {
   "cell_type": "code",
   "execution_count": 67,
   "metadata": {},
   "outputs": [
    {
     "data": {
      "image/png": "[encoded data removed]",
      "text/plain": [
       "<Figure size 432x288 with 1 Axes>"
      ]
     },
     "metadata": {
      "needs_background": "light"
     },
     "output_type": "display_data"
    }
   ],
   "source": [
    "plt.plot(np.arange(num_iterations), cost_list)\n",
    "plt.show()"
   ]
  },
  {
   "cell_type": "code",
   "execution_count": 68,
   "metadata": {},
   "outputs": [
    {
     "data": {
      "text/plain": [
       "array([-1, -1, -1, -1, -1, -1,  1, -1,  1, -1, -1, -1,  1, -1, -1, -1, -1,\n",
       "        1, -1, -1, -1, -1,  1, -1, -1, -1, -1, -1, -1, -1,  1,  1, -1, -1,\n",
       "       -1, -1, -1, -1, -1,  1,  1, -1,  1, -1, -1, -1, -1, -1, -1, -1, -1,\n",
       "       -1,  1, -1, -1, -1,  1, -1,  1, -1, -1, -1, -1,  1, -1, -1, -1, -1,\n",
       "       -1, -1, -1, -1, -1, -1, -1,  1, -1, -1,  1,  1, -1, -1, -1, -1, -1,\n",
       "       -1,  1, -1, -1, -1, -1, -1,  1, -1, -1, -1,  1, -1,  1, -1, -1, -1,\n",
       "       -1,  1, -1, -1, -1, -1, -1, -1, -1, -1, -1, -1, -1, -1,  1, -1, -1,\n",
       "       -1, -1,  1, -1, -1, -1, -1, -1, -1,  1, -1,  1,  1, -1, -1, -1, -1,\n",
       "       -1, -1, -1, -1, -1, -1, -1, -1, -1, -1, -1, -1, -1, -1, -1,  1, -1,\n",
       "       -1, -1, -1, -1, -1, -1, -1, -1,  1, -1, -1, -1,  1, -1, -1, -1, -1,\n",
       "       -1, -1, -1,  1, -1, -1, -1, -1, -1, -1,  1, -1,  1, -1,  1,  1, -1,\n",
       "       -1, -1, -1, -1, -1,  1, -1, -1, -1, -1,  1,  1, -1])"
      ]
     },
     "execution_count": 68,
     "metadata": {},
     "output_type": "execute_result"
    }
   ],
   "source": [
    "# Prediction calculculation \n",
    "# print(np.dot(X_test, weights))\n",
    "y_predict_2 = np.where(np.dot(X_test, weights)<0, -1, 1)\n",
    "\n",
    "y_predict_2"
   ]
  },
  {
   "cell_type": "code",
   "execution_count": 69,
   "metadata": {},
   "outputs": [],
   "source": [
    "def predict_svm(weights, X):\n",
    "    \"\"\"\n",
    "    Predict the class between 0 and 1 using learned SVM parameters weights.\n",
    "    \"\"\"    \n",
    "    return np.where(np.dot(X, weights)<0, -1, 1)"
   ]
  },
  {
   "cell_type": "code",
   "execution_count": 70,
   "metadata": {},
   "outputs": [
    {
     "name": "stdout",
     "output_type": "stream",
     "text": [
      "Accuracy Score: 0.71\n"
     ]
    }
   ],
   "source": [
    "print(\"Accuracy Score:\", accuracy_score(y_test, predict_svm(weights, X_test)))"
   ]
  },
  {
   "cell_type": "code",
   "execution_count": null,
   "metadata": {},
   "outputs": [],
   "source": []
  },
  {
   "cell_type": "code",
   "execution_count": null,
   "metadata": {},
   "outputs": [],
   "source": []
  }
 ],
 "metadata": {
  "kernelspec": {
   "display_name": "Python 3 (ipykernel)",
   "language": "python",
   "name": "python3"
  },
  "language_info": {
   "codemirror_mode": {
    "name": "ipython",
    "version": 3
   },
   "file_extension": ".py",
   "mimetype": "text/x-python",
   "name": "python",
   "nbconvert_exporter": "python",
   "pygments_lexer": "ipython3",
   "version": "3.9.7"
  }
 },
 "nbformat": 4,
 "nbformat_minor": 4
}
